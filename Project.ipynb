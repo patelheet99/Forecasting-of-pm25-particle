{
  "nbformat": 4,
  "nbformat_minor": 0,
  "metadata": {
    "colab": {
      "name": "Project.ipynb",
      "provenance": [],
      "collapsed_sections": []
    },
    "kernelspec": {
      "display_name": "Python 3",
      "name": "python3"
    },
    "language_info": {
      "name": "python"
    }
  },
  "cells": [
    {
      "cell_type": "code",
      "metadata": {
        "id": "loR2FtQAA0Wm"
      },
      "source": [
        "import pandas as pd\n",
        "import matplotlib.pyplot as plt\n",
        "import numpy as np\n",
        "import seaborn as sns\n",
        "%matplotlib inline"
      ],
      "execution_count": 1,
      "outputs": []
    },
    {
      "cell_type": "code",
      "metadata": {
        "colab": {
          "base_uri": "https://localhost:8080/",
          "height": 206
        },
        "id": "vUeQq4iVBG28",
        "outputId": "7c3f258a-e926-4753-9d17-619342a32790"
      },
      "source": [
        "data=pd.read_excel('Delhi.xlsx',header=2,usecols=['date','pm25'],date_parser=True)\n",
        "data.head()"
      ],
      "execution_count": 2,
      "outputs": [
        {
          "output_type": "execute_result",
          "data": {
            "text/html": [
              "<div>\n",
              "<style scoped>\n",
              "    .dataframe tbody tr th:only-of-type {\n",
              "        vertical-align: middle;\n",
              "    }\n",
              "\n",
              "    .dataframe tbody tr th {\n",
              "        vertical-align: top;\n",
              "    }\n",
              "\n",
              "    .dataframe thead th {\n",
              "        text-align: right;\n",
              "    }\n",
              "</style>\n",
              "<table border=\"1\" class=\"dataframe\">\n",
              "  <thead>\n",
              "    <tr style=\"text-align: right;\">\n",
              "      <th></th>\n",
              "      <th>date</th>\n",
              "      <th>pm25</th>\n",
              "    </tr>\n",
              "  </thead>\n",
              "  <tbody>\n",
              "    <tr>\n",
              "      <th>0</th>\n",
              "      <td>2018-04-20 00:00:00</td>\n",
              "      <td>92</td>\n",
              "    </tr>\n",
              "    <tr>\n",
              "      <th>1</th>\n",
              "      <td>2018-04-19 23:00:00</td>\n",
              "      <td>89</td>\n",
              "    </tr>\n",
              "    <tr>\n",
              "      <th>2</th>\n",
              "      <td>2018-04-19 22:00:00</td>\n",
              "      <td>75</td>\n",
              "    </tr>\n",
              "    <tr>\n",
              "      <th>3</th>\n",
              "      <td>2018-04-19 21:00:00</td>\n",
              "      <td>57</td>\n",
              "    </tr>\n",
              "    <tr>\n",
              "      <th>4</th>\n",
              "      <td>2018-04-19 20:00:00</td>\n",
              "      <td>57</td>\n",
              "    </tr>\n",
              "  </tbody>\n",
              "</table>\n",
              "</div>"
            ],
            "text/plain": [
              "                 date pm25\n",
              "0 2018-04-20 00:00:00   92\n",
              "1 2018-04-19 23:00:00   89\n",
              "2 2018-04-19 22:00:00   75\n",
              "3 2018-04-19 21:00:00   57\n",
              "4 2018-04-19 20:00:00   57"
            ]
          },
          "metadata": {
            "tags": []
          },
          "execution_count": 2
        }
      ]
    },
    {
      "cell_type": "code",
      "metadata": {
        "id": "-yvUC3joBSjE"
      },
      "source": [
        "data=data.sort_values(by='date').reset_index()"
      ],
      "execution_count": 3,
      "outputs": []
    },
    {
      "cell_type": "code",
      "metadata": {
        "colab": {
          "base_uri": "https://localhost:8080/",
          "height": 206
        },
        "id": "402GwDjqVZ8R",
        "outputId": "399a2317-822e-4c4d-8080-0b173ccd8295"
      },
      "source": [
        "data.head()"
      ],
      "execution_count": 4,
      "outputs": [
        {
          "output_type": "execute_result",
          "data": {
            "text/html": [
              "<div>\n",
              "<style scoped>\n",
              "    .dataframe tbody tr th:only-of-type {\n",
              "        vertical-align: middle;\n",
              "    }\n",
              "\n",
              "    .dataframe tbody tr th {\n",
              "        vertical-align: top;\n",
              "    }\n",
              "\n",
              "    .dataframe thead th {\n",
              "        text-align: right;\n",
              "    }\n",
              "</style>\n",
              "<table border=\"1\" class=\"dataframe\">\n",
              "  <thead>\n",
              "    <tr style=\"text-align: right;\">\n",
              "      <th></th>\n",
              "      <th>index</th>\n",
              "      <th>date</th>\n",
              "      <th>pm25</th>\n",
              "    </tr>\n",
              "  </thead>\n",
              "  <tbody>\n",
              "    <tr>\n",
              "      <th>0</th>\n",
              "      <td>2373</td>\n",
              "      <td>2018-01-01 00:00:00</td>\n",
              "      <td>423</td>\n",
              "    </tr>\n",
              "    <tr>\n",
              "      <th>1</th>\n",
              "      <td>2372</td>\n",
              "      <td>2018-01-01 01:00:00</td>\n",
              "      <td>414</td>\n",
              "    </tr>\n",
              "    <tr>\n",
              "      <th>2</th>\n",
              "      <td>2371</td>\n",
              "      <td>2018-01-01 02:00:00</td>\n",
              "      <td>417</td>\n",
              "    </tr>\n",
              "    <tr>\n",
              "      <th>3</th>\n",
              "      <td>2370</td>\n",
              "      <td>2018-01-01 03:00:00</td>\n",
              "      <td>466</td>\n",
              "    </tr>\n",
              "    <tr>\n",
              "      <th>4</th>\n",
              "      <td>2369</td>\n",
              "      <td>2018-01-01 04:00:00</td>\n",
              "      <td>470</td>\n",
              "    </tr>\n",
              "  </tbody>\n",
              "</table>\n",
              "</div>"
            ],
            "text/plain": [
              "   index                date pm25\n",
              "0   2373 2018-01-01 00:00:00  423\n",
              "1   2372 2018-01-01 01:00:00  414\n",
              "2   2371 2018-01-01 02:00:00  417\n",
              "3   2370 2018-01-01 03:00:00  466\n",
              "4   2369 2018-01-01 04:00:00  470"
            ]
          },
          "metadata": {
            "tags": []
          },
          "execution_count": 4
        }
      ]
    },
    {
      "cell_type": "code",
      "metadata": {
        "id": "Y8F9I7D4CkyK"
      },
      "source": [
        "data=data.drop(['index'],axis=1)"
      ],
      "execution_count": 5,
      "outputs": []
    },
    {
      "cell_type": "code",
      "metadata": {
        "colab": {
          "base_uri": "https://localhost:8080/",
          "height": 206
        },
        "id": "wW5w-PaFDIZZ",
        "outputId": "8a5eca8e-a97e-493f-b305-666da0b38d93"
      },
      "source": [
        "data.head()"
      ],
      "execution_count": 6,
      "outputs": [
        {
          "output_type": "execute_result",
          "data": {
            "text/html": [
              "<div>\n",
              "<style scoped>\n",
              "    .dataframe tbody tr th:only-of-type {\n",
              "        vertical-align: middle;\n",
              "    }\n",
              "\n",
              "    .dataframe tbody tr th {\n",
              "        vertical-align: top;\n",
              "    }\n",
              "\n",
              "    .dataframe thead th {\n",
              "        text-align: right;\n",
              "    }\n",
              "</style>\n",
              "<table border=\"1\" class=\"dataframe\">\n",
              "  <thead>\n",
              "    <tr style=\"text-align: right;\">\n",
              "      <th></th>\n",
              "      <th>date</th>\n",
              "      <th>pm25</th>\n",
              "    </tr>\n",
              "  </thead>\n",
              "  <tbody>\n",
              "    <tr>\n",
              "      <th>0</th>\n",
              "      <td>2018-01-01 00:00:00</td>\n",
              "      <td>423</td>\n",
              "    </tr>\n",
              "    <tr>\n",
              "      <th>1</th>\n",
              "      <td>2018-01-01 01:00:00</td>\n",
              "      <td>414</td>\n",
              "    </tr>\n",
              "    <tr>\n",
              "      <th>2</th>\n",
              "      <td>2018-01-01 02:00:00</td>\n",
              "      <td>417</td>\n",
              "    </tr>\n",
              "    <tr>\n",
              "      <th>3</th>\n",
              "      <td>2018-01-01 03:00:00</td>\n",
              "      <td>466</td>\n",
              "    </tr>\n",
              "    <tr>\n",
              "      <th>4</th>\n",
              "      <td>2018-01-01 04:00:00</td>\n",
              "      <td>470</td>\n",
              "    </tr>\n",
              "  </tbody>\n",
              "</table>\n",
              "</div>"
            ],
            "text/plain": [
              "                 date pm25\n",
              "0 2018-01-01 00:00:00  423\n",
              "1 2018-01-01 01:00:00  414\n",
              "2 2018-01-01 02:00:00  417\n",
              "3 2018-01-01 03:00:00  466\n",
              "4 2018-01-01 04:00:00  470"
            ]
          },
          "metadata": {
            "tags": []
          },
          "execution_count": 6
        }
      ]
    },
    {
      "cell_type": "code",
      "metadata": {
        "colab": {
          "base_uri": "https://localhost:8080/"
        },
        "id": "nFTzO_rvDSJg",
        "outputId": "a69e6c18-9eef-4918-f6ba-220c083edd84"
      },
      "source": [
        "data.info()"
      ],
      "execution_count": 7,
      "outputs": [
        {
          "output_type": "stream",
          "text": [
            "<class 'pandas.core.frame.DataFrame'>\n",
            "RangeIndex: 2374 entries, 0 to 2373\n",
            "Data columns (total 2 columns):\n",
            " #   Column  Non-Null Count  Dtype         \n",
            "---  ------  --------------  -----         \n",
            " 0   date    2374 non-null   datetime64[ns]\n",
            " 1   pm25    2374 non-null   object        \n",
            "dtypes: datetime64[ns](1), object(1)\n",
            "memory usage: 37.2+ KB\n"
          ],
          "name": "stdout"
        }
      ]
    },
    {
      "cell_type": "code",
      "metadata": {
        "id": "kMKtn9xBDh7e"
      },
      "source": [
        "data['pm25']=data['pm25'].replace(to_replace='-',value=np.nan)"
      ],
      "execution_count": 8,
      "outputs": []
    },
    {
      "cell_type": "code",
      "metadata": {
        "id": "PTLziRbqE1pT"
      },
      "source": [
        "data['pm25']=data['pm25'].fillna(method='ffill')"
      ],
      "execution_count": 9,
      "outputs": []
    },
    {
      "cell_type": "code",
      "metadata": {
        "colab": {
          "base_uri": "https://localhost:8080/"
        },
        "id": "h8n2Sv48FByb",
        "outputId": "cef39813-49f6-414c-d011-382afb30b70c"
      },
      "source": [
        "from statsmodels.tsa.seasonal import seasonal_decompose"
      ],
      "execution_count": 10,
      "outputs": [
        {
          "output_type": "stream",
          "text": [
            "/usr/local/lib/python3.7/dist-packages/statsmodels/tools/_testing.py:19: FutureWarning: pandas.util.testing is deprecated. Use the functions in the public API at pandas.testing instead.\n",
            "  import pandas.util.testing as tm\n"
          ],
          "name": "stderr"
        }
      ]
    },
    {
      "cell_type": "code",
      "metadata": {
        "colab": {
          "base_uri": "https://localhost:8080/",
          "height": 297
        },
        "id": "e4AfkUvwFhJT",
        "outputId": "0fb3729d-516d-40c6-93b4-c0f6bfaee414"
      },
      "source": [
        "decompose_ts_add = seasonal_decompose(data.pm25,freq=4)\n",
        "decompose_ts_add.plot()\n",
        "plt.show()"
      ],
      "execution_count": 12,
      "outputs": [
        {
          "output_type": "display_data",
          "data": {
            "image/png": "[encoded data removed]",
            "text/plain": [
              "<Figure size 432x288 with 4 Axes>"
            ]
          },
          "metadata": {
            "tags": [],
            "needs_background": "light"
          }
        }
      ]
    },
    {
      "cell_type": "code",
      "metadata": {
        "id": "87vD4BSIGC1s"
      },
      "source": [
        "#data['date'] = pd.to_datetime(data.date,format=\"%b-%y\")\n",
        "#look for c standard format codes\n",
        "\n",
        "# Extracting Day, weekday name, month name, year from the Date column using \n",
        "# Date functions from pandas \n",
        "\n",
        "data[\"month\"] = data.date.dt.strftime(\"%b\") # month extraction\n",
        "data[\"year\"] =data.date.dt.strftime(\"%Y\") # year extraction\n",
        "\n",
        "#Walmart[\"Day\"] = Walmart.Date.dt.strftime(\"%d\") # Day extraction\n",
        "#Walmart[\"wkday\"] = Walmart.Date.dt.strftime(\"%A\") # weekday extraction"
      ],
      "execution_count": 13,
      "outputs": []
    },
    {
      "cell_type": "code",
      "metadata": {
        "colab": {
          "base_uri": "https://localhost:8080/",
          "height": 206
        },
        "id": "yKGM9ZCNG7-f",
        "outputId": "cdfbe7ef-2bd7-4e22-eb42-d9c9bfdb0b18"
      },
      "source": [
        "data.head()"
      ],
      "execution_count": 14,
      "outputs": [
        {
          "output_type": "execute_result",
          "data": {
            "text/html": [
              "<div>\n",
              "<style scoped>\n",
              "    .dataframe tbody tr th:only-of-type {\n",
              "        vertical-align: middle;\n",
              "    }\n",
              "\n",
              "    .dataframe tbody tr th {\n",
              "        vertical-align: top;\n",
              "    }\n",
              "\n",
              "    .dataframe thead th {\n",
              "        text-align: right;\n",
              "    }\n",
              "</style>\n",
              "<table border=\"1\" class=\"dataframe\">\n",
              "  <thead>\n",
              "    <tr style=\"text-align: right;\">\n",
              "      <th></th>\n",
              "      <th>date</th>\n",
              "      <th>pm25</th>\n",
              "      <th>month</th>\n",
              "      <th>year</th>\n",
              "    </tr>\n",
              "  </thead>\n",
              "  <tbody>\n",
              "    <tr>\n",
              "      <th>0</th>\n",
              "      <td>2018-01-01 00:00:00</td>\n",
              "      <td>423.0</td>\n",
              "      <td>Jan</td>\n",
              "      <td>2018</td>\n",
              "    </tr>\n",
              "    <tr>\n",
              "      <th>1</th>\n",
              "      <td>2018-01-01 01:00:00</td>\n",
              "      <td>414.0</td>\n",
              "      <td>Jan</td>\n",
              "      <td>2018</td>\n",
              "    </tr>\n",
              "    <tr>\n",
              "      <th>2</th>\n",
              "      <td>2018-01-01 02:00:00</td>\n",
              "      <td>417.0</td>\n",
              "      <td>Jan</td>\n",
              "      <td>2018</td>\n",
              "    </tr>\n",
              "    <tr>\n",
              "      <th>3</th>\n",
              "      <td>2018-01-01 03:00:00</td>\n",
              "      <td>466.0</td>\n",
              "      <td>Jan</td>\n",
              "      <td>2018</td>\n",
              "    </tr>\n",
              "    <tr>\n",
              "      <th>4</th>\n",
              "      <td>2018-01-01 04:00:00</td>\n",
              "      <td>470.0</td>\n",
              "      <td>Jan</td>\n",
              "      <td>2018</td>\n",
              "    </tr>\n",
              "  </tbody>\n",
              "</table>\n",
              "</div>"
            ],
            "text/plain": [
              "                 date   pm25 month  year\n",
              "0 2018-01-01 00:00:00  423.0   Jan  2018\n",
              "1 2018-01-01 01:00:00  414.0   Jan  2018\n",
              "2 2018-01-01 02:00:00  417.0   Jan  2018\n",
              "3 2018-01-01 03:00:00  466.0   Jan  2018\n",
              "4 2018-01-01 04:00:00  470.0   Jan  2018"
            ]
          },
          "metadata": {
            "tags": []
          },
          "execution_count": 14
        }
      ]
    },
    {
      "cell_type": "code",
      "metadata": {
        "id": "J5BfYyIxbUfw"
      },
      "source": [
        "data['logpm25']=np.log(data['pm25'])"
      ],
      "execution_count": 15,
      "outputs": []
    },
    {
      "cell_type": "code",
      "metadata": {
        "id": "OYBFLR1eJNSr"
      },
      "source": [
        "def MAPE(pred,org):\n",
        "    temp = np.abs((pred-org)/org)*100\n",
        "    return np.mean(temp)"
      ],
      "execution_count": 16,
      "outputs": []
    },
    {
      "cell_type": "code",
      "metadata": {
        "id": "C7kxBw7tG9ty"
      },
      "source": [
        "train=data.head(2364)\n",
        "test=data.tail(10)"
      ],
      "execution_count": 17,
      "outputs": []
    },
    {
      "cell_type": "code",
      "metadata": {
        "id": "kRh-D1TvXbIC"
      },
      "source": [
        "from statsmodels.tsa.holtwinters import SimpleExpSmoothing # SES\n",
        "from statsmodels.tsa.holtwinters import Holt # Holts Exponential Smoothing\n",
        "from statsmodels.tsa.holtwinters import ExponentialSmoothing "
      ],
      "execution_count": 18,
      "outputs": []
    },
    {
      "cell_type": "markdown",
      "metadata": {
        "id": "-dpf87MwcIyO"
      },
      "source": [
        "Data Driven Methods"
      ]
    },
    {
      "cell_type": "code",
      "metadata": {
        "colab": {
          "base_uri": "https://localhost:8080/"
        },
        "id": "UICZwpnBHJIb",
        "outputId": "276ee66f-e346-47e4-f7e2-1c8cf6431a3d"
      },
      "source": [
        "ses_model = SimpleExpSmoothing(train['pm25']).fit(smoothing_level=1)\n",
        "pred_ses = ses_model.predict(start =test.index[0],end =test.index[-1])\n",
        "MAPE(pred_ses,test.pm25) \n",
        "#Simple Exponential Smoothing"
      ],
      "execution_count": 19,
      "outputs": [
        {
          "output_type": "execute_result",
          "data": {
            "text/plain": [
              "33.365699451816134"
            ]
          },
          "metadata": {
            "tags": []
          },
          "execution_count": 19
        }
      ]
    },
    {
      "cell_type": "code",
      "metadata": {
        "colab": {
          "base_uri": "https://localhost:8080/"
        },
        "id": "AlxjG22ucXx6",
        "outputId": "208d30a7-92e6-4250-fec2-e760816e166c"
      },
      "source": [
        "ses_model = SimpleExpSmoothing(train['logpm25']).fit(smoothing_level=1)\n",
        "pred_ses = ses_model.predict(start =test.index[0],end =test.index[-1])\n",
        "MAPE(pred_ses,test.logpm25) \n",
        "#Simple Exponential Smoothing"
      ],
      "execution_count": 20,
      "outputs": [
        {
          "output_type": "execute_result",
          "data": {
            "text/plain": [
              "8.163526675547544"
            ]
          },
          "metadata": {
            "tags": []
          },
          "execution_count": 20
        }
      ]
    },
    {
      "cell_type": "code",
      "metadata": {
        "colab": {
          "base_uri": "https://localhost:8080/"
        },
        "id": "ZXV3yo8DHbZr",
        "outputId": "4193fa35-59bc-473c-d373-f2d6e5ab6608"
      },
      "source": [
        "# Holt method \n",
        "hw_model = Holt(train['pm25']).fit(smoothing_level=1, smoothing_slope=1)\n",
        "pred_hw = hw_model.predict(start = test.index[0],end = test.index[-1])\n",
        "MAPE(pred_hw,test.pm25) "
      ],
      "execution_count": 21,
      "outputs": [
        {
          "output_type": "execute_result",
          "data": {
            "text/plain": [
              "70.42323385643343"
            ]
          },
          "metadata": {
            "tags": []
          },
          "execution_count": 21
        }
      ]
    },
    {
      "cell_type": "code",
      "metadata": {
        "colab": {
          "base_uri": "https://localhost:8080/"
        },
        "id": "wqrp-xUdhNUN",
        "outputId": "7cd5323a-203a-4d32-9f41-8c2c0c3966f6"
      },
      "source": [
        "# Holt method \n",
        "hw_model = Holt(train['logpm25']).fit(smoothing_level=1, smoothing_slope=1)\n",
        "pred_hw = hw_model.predict(start = test.index[0],end = test.index[-1])\n",
        "MAPE(pred_hw,test.logpm25) "
      ],
      "execution_count": 22,
      "outputs": [
        {
          "output_type": "execute_result",
          "data": {
            "text/plain": [
              "18.622550200140964"
            ]
          },
          "metadata": {
            "tags": []
          },
          "execution_count": 22
        }
      ]
    },
    {
      "cell_type": "code",
      "metadata": {
        "colab": {
          "base_uri": "https://localhost:8080/"
        },
        "id": "I1Jk2xCVYY15",
        "outputId": "06170c82-b74c-4ca6-fa11-29f5471e0997"
      },
      "source": [
        "hwe_model_add_add = ExponentialSmoothing(train['pm25'],trend=\"add\").fit() #add the trend to the model\n",
        "pred_hwe_add_add = hwe_model_add_add.predict(start = test.index[0],end = test.index[-1])\n",
        "MAPE(pred_hwe_add_add,test.pm25) \n",
        "#Holts winter with exponential smoothing with addictive trend"
      ],
      "execution_count": 23,
      "outputs": [
        {
          "output_type": "execute_result",
          "data": {
            "text/plain": [
              "33.365699451816134"
            ]
          },
          "metadata": {
            "tags": []
          },
          "execution_count": 23
        }
      ]
    },
    {
      "cell_type": "code",
      "metadata": {
        "colab": {
          "base_uri": "https://localhost:8080/"
        },
        "id": "60Y2oyT0hTFM",
        "outputId": "c7dd674a-31bc-4a3a-8313-d0ed87232953"
      },
      "source": [
        "hwe_model_add_add = ExponentialSmoothing(train['logpm25'],trend=\"add\").fit() #add the trend to the model\n",
        "pred_hwe_add_add = hwe_model_add_add.predict(start = test.index[0],end = test.index[-1])\n",
        "MAPE(pred_hwe_add_add,test.logpm25) \n",
        "#Holts winter with exponential smoothing with addictive trend"
      ],
      "execution_count": 24,
      "outputs": [
        {
          "output_type": "execute_result",
          "data": {
            "text/plain": [
              "8.163526675547544"
            ]
          },
          "metadata": {
            "tags": []
          },
          "execution_count": 24
        }
      ]
    },
    {
      "cell_type": "code",
      "metadata": {
        "colab": {
          "base_uri": "https://localhost:8080/"
        },
        "id": "zksEIcEVYqL-",
        "outputId": "fb167406-dc07-42ae-ce30-c084911a02d4"
      },
      "source": [
        "hwe_model_add_add = ExponentialSmoothing(train['pm25'],trend=\"add\",seasonal='add',seasonal_periods=4).fit() #add the trend to the model\n",
        "pred_hwe_add_add = hwe_model_add_add.predict(start = test.index[0],end = test.index[-1])\n",
        "MAPE(pred_hwe_add_add,test.pm25) \n",
        "#Holts winter with exponential smoothing with addictive trend and addictive seasonality"
      ],
      "execution_count": 25,
      "outputs": [
        {
          "output_type": "execute_result",
          "data": {
            "text/plain": [
              "53.767383525963695"
            ]
          },
          "metadata": {
            "tags": []
          },
          "execution_count": 25
        }
      ]
    },
    {
      "cell_type": "code",
      "metadata": {
        "colab": {
          "base_uri": "https://localhost:8080/"
        },
        "id": "fxRG8phOMwga",
        "outputId": "6b31428c-6c71-41fa-c26d-3d6aec709c97"
      },
      "source": [
        "we_model_add_add = ExponentialSmoothing(train['logpm25'],trend=\"add\",seasonal='add',seasonal_periods=4).fit() #add the trend to the model\n",
        "pred_hwe_add_add = hwe_model_add_add.predict(start = test.index[0],end = test.index[-1])\n",
        "MAPE(pred_hwe_add_add,test.logpm25) \n",
        "#Holts winter with exponential smoothing with addictive trend and addictive seasonality"
      ],
      "execution_count": 26,
      "outputs": [
        {
          "output_type": "execute_result",
          "data": {
            "text/plain": [
              "553.380983021608"
            ]
          },
          "metadata": {
            "tags": []
          },
          "execution_count": 26
        }
      ]
    },
    {
      "cell_type": "code",
      "metadata": {
        "colab": {
          "base_uri": "https://localhost:8080/"
        },
        "id": "reopmkEJZO6c",
        "outputId": "edb60bab-7a8d-4eae-efe9-e4f3089312e3"
      },
      "source": [
        "hwe_model_mul_add = ExponentialSmoothing(train[\"pm25\"],seasonal=\"mul\",trend=\"add\",seasonal_periods=4).fit() \n",
        "pred_hwe_mul_add = hwe_model_mul_add.predict(start = test.index[0],end = test.index[-1])\n",
        "MAPE(pred_hwe_mul_add,test.pm25)\n",
        "#Holts winter with exponential smoothing with addictive trend and multiplicative seasonality"
      ],
      "execution_count": 27,
      "outputs": [
        {
          "output_type": "execute_result",
          "data": {
            "text/plain": [
              "43.09399286607995"
            ]
          },
          "metadata": {
            "tags": []
          },
          "execution_count": 27
        }
      ]
    },
    {
      "cell_type": "code",
      "metadata": {
        "colab": {
          "base_uri": "https://localhost:8080/"
        },
        "id": "hdPqJZ1tZxQo",
        "outputId": "60554ee6-9af3-45f8-c660-f8376dee3978"
      },
      "source": [
        "hwe_model_mul_add = ExponentialSmoothing(train[\"pm25\"],seasonal=\"mul\",trend=\"mul\",seasonal_periods=4).fit() \n",
        "pred_hwe_mul_add = hwe_model_mul_add.predict(start = test.index[0],end = test.index[-1])\n",
        "MAPE(pred_hwe_mul_add,test.pm25)\n",
        "#Holts winter with exponential smoothing with multiplicative trend and multiplicative seasonality"
      ],
      "execution_count": 29,
      "outputs": [
        {
          "output_type": "execute_result",
          "data": {
            "text/plain": [
              "35.18113276678143"
            ]
          },
          "metadata": {
            "tags": []
          },
          "execution_count": 29
        }
      ]
    },
    {
      "cell_type": "markdown",
      "metadata": {
        "id": "gCNeYoP5cMHZ"
      },
      "source": [
        "Model based methods"
      ]
    },
    {
      "cell_type": "code",
      "metadata": {
        "colab": {
          "base_uri": "https://localhost:8080/",
          "height": 206
        },
        "id": "n2RFCnQ2brXB",
        "outputId": "455f14f5-2dad-4a9f-91f6-eb54ec6be9b5"
      },
      "source": [
        "data.head()"
      ],
      "execution_count": 30,
      "outputs": [
        {
          "output_type": "execute_result",
          "data": {
            "text/html": [
              "<div>\n",
              "<style scoped>\n",
              "    .dataframe tbody tr th:only-of-type {\n",
              "        vertical-align: middle;\n",
              "    }\n",
              "\n",
              "    .dataframe tbody tr th {\n",
              "        vertical-align: top;\n",
              "    }\n",
              "\n",
              "    .dataframe thead th {\n",
              "        text-align: right;\n",
              "    }\n",
              "</style>\n",
              "<table border=\"1\" class=\"dataframe\">\n",
              "  <thead>\n",
              "    <tr style=\"text-align: right;\">\n",
              "      <th></th>\n",
              "      <th>date</th>\n",
              "      <th>pm25</th>\n",
              "      <th>month</th>\n",
              "      <th>year</th>\n",
              "      <th>logpm25</th>\n",
              "    </tr>\n",
              "  </thead>\n",
              "  <tbody>\n",
              "    <tr>\n",
              "      <th>0</th>\n",
              "      <td>2018-01-01 00:00:00</td>\n",
              "      <td>423.0</td>\n",
              "      <td>Jan</td>\n",
              "      <td>2018</td>\n",
              "      <td>6.047372</td>\n",
              "    </tr>\n",
              "    <tr>\n",
              "      <th>1</th>\n",
              "      <td>2018-01-01 01:00:00</td>\n",
              "      <td>414.0</td>\n",
              "      <td>Jan</td>\n",
              "      <td>2018</td>\n",
              "      <td>6.025866</td>\n",
              "    </tr>\n",
              "    <tr>\n",
              "      <th>2</th>\n",
              "      <td>2018-01-01 02:00:00</td>\n",
              "      <td>417.0</td>\n",
              "      <td>Jan</td>\n",
              "      <td>2018</td>\n",
              "      <td>6.033086</td>\n",
              "    </tr>\n",
              "    <tr>\n",
              "      <th>3</th>\n",
              "      <td>2018-01-01 03:00:00</td>\n",
              "      <td>466.0</td>\n",
              "      <td>Jan</td>\n",
              "      <td>2018</td>\n",
              "      <td>6.144186</td>\n",
              "    </tr>\n",
              "    <tr>\n",
              "      <th>4</th>\n",
              "      <td>2018-01-01 04:00:00</td>\n",
              "      <td>470.0</td>\n",
              "      <td>Jan</td>\n",
              "      <td>2018</td>\n",
              "      <td>6.152733</td>\n",
              "    </tr>\n",
              "  </tbody>\n",
              "</table>\n",
              "</div>"
            ],
            "text/plain": [
              "                 date   pm25 month  year   logpm25\n",
              "0 2018-01-01 00:00:00  423.0   Jan  2018  6.047372\n",
              "1 2018-01-01 01:00:00  414.0   Jan  2018  6.025866\n",
              "2 2018-01-01 02:00:00  417.0   Jan  2018  6.033086\n",
              "3 2018-01-01 03:00:00  466.0   Jan  2018  6.144186\n",
              "4 2018-01-01 04:00:00  470.0   Jan  2018  6.152733"
            ]
          },
          "metadata": {
            "tags": []
          },
          "execution_count": 30
        }
      ]
    },
    {
      "cell_type": "code",
      "metadata": {
        "id": "zLbP7qrMdhfT"
      },
      "source": [
        "from sklearn.preprocessing import LabelEncoder\n",
        "sc=LabelEncoder()\n",
        "data['t']=sc.fit_transform(data['month'])"
      ],
      "execution_count": 31,
      "outputs": []
    },
    {
      "cell_type": "code",
      "metadata": {
        "id": "1MnoipsCfG4y"
      },
      "source": [
        "data['tsqaure']=data['t']*data['t']"
      ],
      "execution_count": 32,
      "outputs": []
    },
    {
      "cell_type": "code",
      "metadata": {
        "colab": {
          "base_uri": "https://localhost:8080/",
          "height": 206
        },
        "id": "wye1w5DeefXm",
        "outputId": "e1327760-fb4a-4245-ab14-4bd519d5a077"
      },
      "source": [
        "data.head()"
      ],
      "execution_count": 33,
      "outputs": [
        {
          "output_type": "execute_result",
          "data": {
            "text/html": [
              "<div>\n",
              "<style scoped>\n",
              "    .dataframe tbody tr th:only-of-type {\n",
              "        vertical-align: middle;\n",
              "    }\n",
              "\n",
              "    .dataframe tbody tr th {\n",
              "        vertical-align: top;\n",
              "    }\n",
              "\n",
              "    .dataframe thead th {\n",
              "        text-align: right;\n",
              "    }\n",
              "</style>\n",
              "<table border=\"1\" class=\"dataframe\">\n",
              "  <thead>\n",
              "    <tr style=\"text-align: right;\">\n",
              "      <th></th>\n",
              "      <th>date</th>\n",
              "      <th>pm25</th>\n",
              "      <th>month</th>\n",
              "      <th>year</th>\n",
              "      <th>logpm25</th>\n",
              "      <th>t</th>\n",
              "      <th>tsqaure</th>\n",
              "    </tr>\n",
              "  </thead>\n",
              "  <tbody>\n",
              "    <tr>\n",
              "      <th>0</th>\n",
              "      <td>2018-01-01 00:00:00</td>\n",
              "      <td>423.0</td>\n",
              "      <td>Jan</td>\n",
              "      <td>2018</td>\n",
              "      <td>6.047372</td>\n",
              "      <td>2</td>\n",
              "      <td>4</td>\n",
              "    </tr>\n",
              "    <tr>\n",
              "      <th>1</th>\n",
              "      <td>2018-01-01 01:00:00</td>\n",
              "      <td>414.0</td>\n",
              "      <td>Jan</td>\n",
              "      <td>2018</td>\n",
              "      <td>6.025866</td>\n",
              "      <td>2</td>\n",
              "      <td>4</td>\n",
              "    </tr>\n",
              "    <tr>\n",
              "      <th>2</th>\n",
              "      <td>2018-01-01 02:00:00</td>\n",
              "      <td>417.0</td>\n",
              "      <td>Jan</td>\n",
              "      <td>2018</td>\n",
              "      <td>6.033086</td>\n",
              "      <td>2</td>\n",
              "      <td>4</td>\n",
              "    </tr>\n",
              "    <tr>\n",
              "      <th>3</th>\n",
              "      <td>2018-01-01 03:00:00</td>\n",
              "      <td>466.0</td>\n",
              "      <td>Jan</td>\n",
              "      <td>2018</td>\n",
              "      <td>6.144186</td>\n",
              "      <td>2</td>\n",
              "      <td>4</td>\n",
              "    </tr>\n",
              "    <tr>\n",
              "      <th>4</th>\n",
              "      <td>2018-01-01 04:00:00</td>\n",
              "      <td>470.0</td>\n",
              "      <td>Jan</td>\n",
              "      <td>2018</td>\n",
              "      <td>6.152733</td>\n",
              "      <td>2</td>\n",
              "      <td>4</td>\n",
              "    </tr>\n",
              "  </tbody>\n",
              "</table>\n",
              "</div>"
            ],
            "text/plain": [
              "                 date   pm25 month  year   logpm25  t  tsqaure\n",
              "0 2018-01-01 00:00:00  423.0   Jan  2018  6.047372  2        4\n",
              "1 2018-01-01 01:00:00  414.0   Jan  2018  6.025866  2        4\n",
              "2 2018-01-01 02:00:00  417.0   Jan  2018  6.033086  2        4\n",
              "3 2018-01-01 03:00:00  466.0   Jan  2018  6.144186  2        4\n",
              "4 2018-01-01 04:00:00  470.0   Jan  2018  6.152733  2        4"
            ]
          },
          "metadata": {
            "tags": []
          },
          "execution_count": 33
        }
      ]
    },
    {
      "cell_type": "code",
      "metadata": {
        "id": "I3j4o6LOcdpO"
      },
      "source": [
        "Train = data.head(2364)\n",
        "Test = data.tail(10)"
      ],
      "execution_count": 34,
      "outputs": []
    },
    {
      "cell_type": "code",
      "metadata": {
        "colab": {
          "base_uri": "https://localhost:8080/"
        },
        "id": "e4z9WuEBcfGV",
        "outputId": "becee32f-d2e9-4025-e2ea-97ee1e30baa6"
      },
      "source": [
        "#Linear Model\n",
        "import statsmodels.formula.api as smf \n",
        "\n",
        "linear_model = smf.ols('pm25~t',data=Train).fit()\n",
        "pred_linear =  pd.Series(linear_model.predict(pd.DataFrame(Test['t'])))\n",
        "rmse_linear = np.sqrt(np.mean((np.array(Test['pm25'])-np.array(pred_linear))**2))\n",
        "rmse_linear"
      ],
      "execution_count": 35,
      "outputs": [
        {
          "output_type": "execute_result",
          "data": {
            "text/plain": [
              "120.2567770660779"
            ]
          },
          "metadata": {
            "tags": []
          },
          "execution_count": 35
        }
      ]
    },
    {
      "cell_type": "code",
      "metadata": {
        "colab": {
          "base_uri": "https://localhost:8080/"
        },
        "id": "VMQRV-D0es1X",
        "outputId": "9aa0580e-861c-4d35-b14f-41676e680ea8"
      },
      "source": [
        "#Exponential\n",
        "\n",
        "Exp = smf.ols('logpm25~t',data=Train).fit()\n",
        "pred_Exp = pd.Series(Exp.predict(pd.DataFrame(Test['t'])))\n",
        "rmse_Exp = np.sqrt(np.mean((np.array(Test['pm25'])-np.array(np.exp(pred_Exp)))**2))\n",
        "rmse_Exp"
      ],
      "execution_count": 36,
      "outputs": [
        {
          "output_type": "execute_result",
          "data": {
            "text/plain": [
              "67.84911071054253"
            ]
          },
          "metadata": {
            "tags": []
          },
          "execution_count": 36
        }
      ]
    },
    {
      "cell_type": "code",
      "metadata": {
        "colab": {
          "base_uri": "https://localhost:8080/"
        },
        "id": "mbQU8QOte8j1",
        "outputId": "35eb50cf-8000-4ce6-b53e-ef977f15e79d"
      },
      "source": [
        "#Quadratic\n",
        "Quad = smf.ols('pm25~t+tsqaure',data=Train).fit()\n",
        "pred_Quad = pd.Series(Quad.predict(Test[[\"t\",\"tsqaure\"]]))\n",
        "rmse_Quad = np.sqrt(np.mean((np.array(Test['pm25'])-np.array(pred_Quad))**2))\n",
        "rmse_Quad"
      ],
      "execution_count": 37,
      "outputs": [
        {
          "output_type": "execute_result",
          "data": {
            "text/plain": [
              "35.00398889632396"
            ]
          },
          "metadata": {
            "tags": []
          },
          "execution_count": 37
        }
      ]
    },
    {
      "cell_type": "markdown",
      "metadata": {
        "id": "GaUREj9wgTgt"
      },
      "source": [
        "ARIMA MODEL"
      ]
    },
    {
      "cell_type": "code",
      "metadata": {
        "colab": {
          "base_uri": "https://localhost:8080/",
          "height": 206
        },
        "id": "EdD0GOWSgU2N",
        "outputId": "4330979c-45de-4d77-98d1-c70fedb677c3"
      },
      "source": [
        "df=data.copy()\n",
        "df.head()"
      ],
      "execution_count": 38,
      "outputs": [
        {
          "output_type": "execute_result",
          "data": {
            "text/html": [
              "<div>\n",
              "<style scoped>\n",
              "    .dataframe tbody tr th:only-of-type {\n",
              "        vertical-align: middle;\n",
              "    }\n",
              "\n",
              "    .dataframe tbody tr th {\n",
              "        vertical-align: top;\n",
              "    }\n",
              "\n",
              "    .dataframe thead th {\n",
              "        text-align: right;\n",
              "    }\n",
              "</style>\n",
              "<table border=\"1\" class=\"dataframe\">\n",
              "  <thead>\n",
              "    <tr style=\"text-align: right;\">\n",
              "      <th></th>\n",
              "      <th>date</th>\n",
              "      <th>pm25</th>\n",
              "      <th>month</th>\n",
              "      <th>year</th>\n",
              "      <th>logpm25</th>\n",
              "      <th>t</th>\n",
              "      <th>tsqaure</th>\n",
              "    </tr>\n",
              "  </thead>\n",
              "  <tbody>\n",
              "    <tr>\n",
              "      <th>0</th>\n",
              "      <td>2018-01-01 00:00:00</td>\n",
              "      <td>423.0</td>\n",
              "      <td>Jan</td>\n",
              "      <td>2018</td>\n",
              "      <td>6.047372</td>\n",
              "      <td>2</td>\n",
              "      <td>4</td>\n",
              "    </tr>\n",
              "    <tr>\n",
              "      <th>1</th>\n",
              "      <td>2018-01-01 01:00:00</td>\n",
              "      <td>414.0</td>\n",
              "      <td>Jan</td>\n",
              "      <td>2018</td>\n",
              "      <td>6.025866</td>\n",
              "      <td>2</td>\n",
              "      <td>4</td>\n",
              "    </tr>\n",
              "    <tr>\n",
              "      <th>2</th>\n",
              "      <td>2018-01-01 02:00:00</td>\n",
              "      <td>417.0</td>\n",
              "      <td>Jan</td>\n",
              "      <td>2018</td>\n",
              "      <td>6.033086</td>\n",
              "      <td>2</td>\n",
              "      <td>4</td>\n",
              "    </tr>\n",
              "    <tr>\n",
              "      <th>3</th>\n",
              "      <td>2018-01-01 03:00:00</td>\n",
              "      <td>466.0</td>\n",
              "      <td>Jan</td>\n",
              "      <td>2018</td>\n",
              "      <td>6.144186</td>\n",
              "      <td>2</td>\n",
              "      <td>4</td>\n",
              "    </tr>\n",
              "    <tr>\n",
              "      <th>4</th>\n",
              "      <td>2018-01-01 04:00:00</td>\n",
              "      <td>470.0</td>\n",
              "      <td>Jan</td>\n",
              "      <td>2018</td>\n",
              "      <td>6.152733</td>\n",
              "      <td>2</td>\n",
              "      <td>4</td>\n",
              "    </tr>\n",
              "  </tbody>\n",
              "</table>\n",
              "</div>"
            ],
            "text/plain": [
              "                 date   pm25 month  year   logpm25  t  tsqaure\n",
              "0 2018-01-01 00:00:00  423.0   Jan  2018  6.047372  2        4\n",
              "1 2018-01-01 01:00:00  414.0   Jan  2018  6.025866  2        4\n",
              "2 2018-01-01 02:00:00  417.0   Jan  2018  6.033086  2        4\n",
              "3 2018-01-01 03:00:00  466.0   Jan  2018  6.144186  2        4\n",
              "4 2018-01-01 04:00:00  470.0   Jan  2018  6.152733  2        4"
            ]
          },
          "metadata": {
            "tags": []
          },
          "execution_count": 38
        }
      ]
    },
    {
      "cell_type": "code",
      "metadata": {
        "id": "gl_rLTLJmOMR"
      },
      "source": [
        "df=df.drop(['pm25','month','year','t','tsqaure'],axis=1)"
      ],
      "execution_count": 39,
      "outputs": []
    },
    {
      "cell_type": "code",
      "metadata": {
        "colab": {
          "base_uri": "https://localhost:8080/",
          "height": 237
        },
        "id": "aRfCM6sEfazz",
        "outputId": "d4248de3-8ec9-40c6-83a6-b80a8fb4059a"
      },
      "source": [
        "df=df.set_index('date')\n",
        "df.head()"
      ],
      "execution_count": 40,
      "outputs": [
        {
          "output_type": "execute_result",
          "data": {
            "text/html": [
              "<div>\n",
              "<style scoped>\n",
              "    .dataframe tbody tr th:only-of-type {\n",
              "        vertical-align: middle;\n",
              "    }\n",
              "\n",
              "    .dataframe tbody tr th {\n",
              "        vertical-align: top;\n",
              "    }\n",
              "\n",
              "    .dataframe thead th {\n",
              "        text-align: right;\n",
              "    }\n",
              "</style>\n",
              "<table border=\"1\" class=\"dataframe\">\n",
              "  <thead>\n",
              "    <tr style=\"text-align: right;\">\n",
              "      <th></th>\n",
              "      <th>logpm25</th>\n",
              "    </tr>\n",
              "    <tr>\n",
              "      <th>date</th>\n",
              "      <th></th>\n",
              "    </tr>\n",
              "  </thead>\n",
              "  <tbody>\n",
              "    <tr>\n",
              "      <th>2018-01-01 00:00:00</th>\n",
              "      <td>6.047372</td>\n",
              "    </tr>\n",
              "    <tr>\n",
              "      <th>2018-01-01 01:00:00</th>\n",
              "      <td>6.025866</td>\n",
              "    </tr>\n",
              "    <tr>\n",
              "      <th>2018-01-01 02:00:00</th>\n",
              "      <td>6.033086</td>\n",
              "    </tr>\n",
              "    <tr>\n",
              "      <th>2018-01-01 03:00:00</th>\n",
              "      <td>6.144186</td>\n",
              "    </tr>\n",
              "    <tr>\n",
              "      <th>2018-01-01 04:00:00</th>\n",
              "      <td>6.152733</td>\n",
              "    </tr>\n",
              "  </tbody>\n",
              "</table>\n",
              "</div>"
            ],
            "text/plain": [
              "                      logpm25\n",
              "date                         \n",
              "2018-01-01 00:00:00  6.047372\n",
              "2018-01-01 01:00:00  6.025866\n",
              "2018-01-01 02:00:00  6.033086\n",
              "2018-01-01 03:00:00  6.144186\n",
              "2018-01-01 04:00:00  6.152733"
            ]
          },
          "metadata": {
            "tags": []
          },
          "execution_count": 40
        }
      ]
    },
    {
      "cell_type": "code",
      "metadata": {
        "id": "jXlnuCNzfgyq"
      },
      "source": [
        "from statsmodels.tsa.arima_model import ARIMA"
      ],
      "execution_count": 41,
      "outputs": []
    },
    {
      "cell_type": "code",
      "metadata": {
        "colab": {
          "base_uri": "https://localhost:8080/"
        },
        "id": "HmNIb7atgO4Z",
        "outputId": "0f46c0a7-a3d6-45b4-c5ea-4f167aedb121"
      },
      "source": [
        "split_point = len(df) - 10\n",
        "dataset, validation = df[0:split_point],df[split_point:]\n",
        "print('Dataset %d, Validation %d' % (len(dataset), len(validation)))\n",
        "dataset.to_csv('dataset.csv', header=False)\n",
        "validation.to_csv('validation.csv', header=False)"
      ],
      "execution_count": 42,
      "outputs": [
        {
          "output_type": "stream",
          "text": [
            "Dataset 2364, Validation 10\n"
          ],
          "name": "stdout"
        }
      ]
    },
    {
      "cell_type": "code",
      "metadata": {
        "id": "p0lU2OE3gRnI"
      },
      "source": [
        "# evaluate a persistence model\n",
        "from pandas import read_csv\n",
        "from sklearn.metrics import mean_squared_error\n",
        "from math import sqrt\n",
        "# load data\n",
        "train = read_csv('dataset.csv', header=None, index_col=0, parse_dates=True, squeeze=True)\n",
        "# prepare data\n",
        "X = train.values\n",
        "X = X.astype('float32')\n",
        "train_size = int(len(X) * 0.50)\n",
        "train, test = X[0:train_size], X[train_size:]"
      ],
      "execution_count": 43,
      "outputs": []
    },
    {
      "cell_type": "code",
      "metadata": {
        "colab": {
          "base_uri": "https://localhost:8080/"
        },
        "id": "0H-93Ew3gVb8",
        "outputId": "cae42579-6434-4b22-d9ba-32ee3159a0e6"
      },
      "source": [
        "# walk-forward validation\n",
        "history = [x for x in train]\n",
        "predictions = list()\n",
        "for i in range(len(test)):\n",
        "    yhat = history[-1]\n",
        "    predictions.append(yhat)\n",
        "# observation\n",
        "    obs = test[i]\n",
        "    history.append(obs)\n",
        "    print('>Predicted=%.3f, Expected=%.3f' % (yhat, obs))\n",
        "# report performance\n",
        "rmse = sqrt(mean_squared_error(test, predictions))\n",
        "print('RMSE: %.3f' % rmse)"
      ],
      "execution_count": 44,
      "outputs": [
        {
          "output_type": "stream",
          "text": [
            ">Predicted=5.407, Expected=5.476\n",
            ">Predicted=5.476, Expected=5.587\n",
            ">Predicted=5.587, Expected=5.011\n",
            ">Predicted=5.011, Expected=5.403\n",
            ">Predicted=5.403, Expected=5.481\n",
            ">Predicted=5.481, Expected=5.756\n",
            ">Predicted=5.756, Expected=5.762\n",
            ">Predicted=5.762, Expected=5.835\n",
            ">Predicted=5.835, Expected=5.820\n",
            ">Predicted=5.820, Expected=5.707\n",
            ">Predicted=5.707, Expected=5.165\n",
            ">Predicted=5.165, Expected=5.338\n",
            ">Predicted=5.338, Expected=5.553\n",
            ">Predicted=5.553, Expected=5.308\n",
            ">Predicted=5.308, Expected=5.142\n",
            ">Predicted=5.142, Expected=5.017\n",
            ">Predicted=5.017, Expected=4.718\n",
            ">Predicted=4.718, Expected=5.004\n",
            ">Predicted=5.004, Expected=5.165\n",
            ">Predicted=5.165, Expected=5.328\n",
            ">Predicted=5.328, Expected=5.497\n",
            ">Predicted=5.497, Expected=5.753\n",
            ">Predicted=5.753, Expected=5.743\n",
            ">Predicted=5.743, Expected=5.753\n",
            ">Predicted=5.753, Expected=5.730\n",
            ">Predicted=5.730, Expected=5.743\n",
            ">Predicted=5.743, Expected=5.720\n",
            ">Predicted=5.720, Expected=5.733\n",
            ">Predicted=5.733, Expected=5.775\n",
            ">Predicted=5.775, Expected=5.861\n",
            ">Predicted=5.861, Expected=5.841\n",
            ">Predicted=5.841, Expected=5.793\n",
            ">Predicted=5.793, Expected=5.464\n",
            ">Predicted=5.464, Expected=4.852\n",
            ">Predicted=4.852, Expected=4.500\n",
            ">Predicted=4.500, Expected=4.883\n",
            ">Predicted=4.883, Expected=4.963\n",
            ">Predicted=4.963, Expected=4.605\n",
            ">Predicted=4.605, Expected=5.050\n",
            ">Predicted=5.050, Expected=5.231\n",
            ">Predicted=5.231, Expected=4.875\n",
            ">Predicted=4.875, Expected=5.565\n",
            ">Predicted=5.565, Expected=5.663\n",
            ">Predicted=5.663, Expected=5.727\n",
            ">Predicted=5.727, Expected=5.743\n",
            ">Predicted=5.743, Expected=5.756\n",
            ">Predicted=5.756, Expected=5.756\n",
            ">Predicted=5.756, Expected=5.784\n",
            ">Predicted=5.784, Expected=5.787\n",
            ">Predicted=5.787, Expected=5.883\n",
            ">Predicted=5.883, Expected=5.846\n",
            ">Predicted=5.846, Expected=5.835\n",
            ">Predicted=5.835, Expected=5.768\n",
            ">Predicted=5.768, Expected=5.808\n",
            ">Predicted=5.808, Expected=5.263\n",
            ">Predicted=5.263, Expected=4.511\n",
            ">Predicted=4.511, Expected=4.997\n",
            ">Predicted=4.997, Expected=5.533\n",
            ">Predicted=5.533, Expected=5.130\n",
            ">Predicted=5.130, Expected=5.030\n",
            ">Predicted=5.030, Expected=4.700\n",
            ">Predicted=4.700, Expected=4.615\n",
            ">Predicted=4.615, Expected=4.682\n",
            ">Predicted=4.682, Expected=4.190\n",
            ">Predicted=4.190, Expected=4.159\n",
            ">Predicted=4.159, Expected=4.127\n",
            ">Predicted=4.127, Expected=4.143\n",
            ">Predicted=4.143, Expected=4.304\n",
            ">Predicted=4.304, Expected=4.454\n",
            ">Predicted=4.454, Expected=4.419\n",
            ">Predicted=4.419, Expected=4.263\n",
            ">Predicted=4.263, Expected=4.290\n",
            ">Predicted=4.290, Expected=4.078\n",
            ">Predicted=4.078, Expected=3.912\n",
            ">Predicted=3.912, Expected=4.454\n",
            ">Predicted=4.454, Expected=5.521\n",
            ">Predicted=5.521, Expected=5.733\n",
            ">Predicted=5.733, Expected=5.602\n",
            ">Predicted=5.602, Expected=5.088\n",
            ">Predicted=5.088, Expected=5.153\n",
            ">Predicted=5.153, Expected=5.394\n",
            ">Predicted=5.394, Expected=3.367\n",
            ">Predicted=3.367, Expected=0.693\n",
            ">Predicted=0.693, Expected=2.303\n",
            ">Predicted=2.303, Expected=3.761\n",
            ">Predicted=3.761, Expected=4.174\n",
            ">Predicted=4.174, Expected=4.143\n",
            ">Predicted=4.143, Expected=3.850\n",
            ">Predicted=3.850, Expected=3.401\n",
            ">Predicted=3.401, Expected=3.912\n",
            ">Predicted=3.912, Expected=3.689\n",
            ">Predicted=3.689, Expected=4.159\n",
            ">Predicted=4.159, Expected=4.875\n",
            ">Predicted=4.875, Expected=4.564\n",
            ">Predicted=4.564, Expected=3.951\n",
            ">Predicted=3.951, Expected=3.850\n",
            ">Predicted=3.850, Expected=4.277\n",
            ">Predicted=4.277, Expected=4.691\n",
            ">Predicted=4.691, Expected=5.283\n",
            ">Predicted=5.283, Expected=4.736\n",
            ">Predicted=4.736, Expected=3.738\n",
            ">Predicted=3.738, Expected=4.796\n",
            ">Predicted=4.796, Expected=5.088\n",
            ">Predicted=5.088, Expected=5.652\n",
            ">Predicted=5.652, Expected=5.088\n",
            ">Predicted=5.088, Expected=4.060\n",
            ">Predicted=4.060, Expected=3.332\n",
            ">Predicted=3.332, Expected=4.078\n",
            ">Predicted=4.078, Expected=4.025\n",
            ">Predicted=4.025, Expected=4.344\n",
            ">Predicted=4.344, Expected=4.407\n",
            ">Predicted=4.407, Expected=4.317\n",
            ">Predicted=4.317, Expected=4.511\n",
            ">Predicted=4.511, Expected=4.277\n",
            ">Predicted=4.277, Expected=4.431\n",
            ">Predicted=4.431, Expected=4.682\n",
            ">Predicted=4.682, Expected=5.236\n",
            ">Predicted=5.236, Expected=5.565\n",
            ">Predicted=5.565, Expected=5.598\n",
            ">Predicted=5.598, Expected=5.460\n",
            ">Predicted=5.460, Expected=5.759\n",
            ">Predicted=5.759, Expected=5.849\n",
            ">Predicted=5.849, Expected=5.892\n",
            ">Predicted=5.892, Expected=5.841\n",
            ">Predicted=5.841, Expected=5.872\n",
            ">Predicted=5.872, Expected=5.875\n",
            ">Predicted=5.875, Expected=5.855\n",
            ">Predicted=5.855, Expected=5.649\n",
            ">Predicted=5.649, Expected=5.338\n",
            ">Predicted=5.338, Expected=4.357\n",
            ">Predicted=4.357, Expected=3.611\n",
            ">Predicted=3.611, Expected=4.205\n",
            ">Predicted=4.205, Expected=4.564\n",
            ">Predicted=4.564, Expected=4.718\n",
            ">Predicted=4.718, Expected=4.575\n",
            ">Predicted=4.575, Expected=4.913\n",
            ">Predicted=4.913, Expected=4.522\n",
            ">Predicted=4.522, Expected=4.543\n",
            ">Predicted=4.543, Expected=4.836\n",
            ">Predicted=4.836, Expected=4.762\n",
            ">Predicted=4.762, Expected=5.142\n",
            ">Predicted=5.142, Expected=5.024\n",
            ">Predicted=5.024, Expected=5.004\n",
            ">Predicted=5.004, Expected=5.517\n",
            ">Predicted=5.517, Expected=5.624\n",
            ">Predicted=5.624, Expected=5.645\n",
            ">Predicted=5.645, Expected=5.733\n",
            ">Predicted=5.733, Expected=5.714\n",
            ">Predicted=5.714, Expected=5.808\n",
            ">Predicted=5.808, Expected=5.878\n",
            ">Predicted=5.878, Expected=5.869\n",
            ">Predicted=5.869, Expected=5.914\n",
            ">Predicted=5.914, Expected=5.759\n",
            ">Predicted=5.759, Expected=5.434\n",
            ">Predicted=5.434, Expected=3.332\n",
            ">Predicted=3.332, Expected=3.912\n",
            ">Predicted=3.912, Expected=4.554\n",
            ">Predicted=4.554, Expected=3.932\n",
            ">Predicted=3.932, Expected=4.500\n",
            ">Predicted=4.500, Expected=3.892\n",
            ">Predicted=3.892, Expected=3.555\n",
            ">Predicted=3.555, Expected=3.714\n",
            ">Predicted=3.714, Expected=3.970\n",
            ">Predicted=3.970, Expected=4.143\n",
            ">Predicted=4.143, Expected=4.762\n",
            ">Predicted=4.762, Expected=5.273\n",
            ">Predicted=5.273, Expected=5.525\n",
            ">Predicted=5.525, Expected=5.743\n",
            ">Predicted=5.743, Expected=5.793\n",
            ">Predicted=5.793, Expected=5.784\n",
            ">Predicted=5.784, Expected=5.730\n",
            ">Predicted=5.730, Expected=5.501\n",
            ">Predicted=5.501, Expected=5.485\n",
            ">Predicted=5.485, Expected=5.765\n",
            ">Predicted=5.765, Expected=5.740\n",
            ">Predicted=5.740, Expected=5.666\n",
            ">Predicted=5.666, Expected=5.403\n",
            ">Predicted=5.403, Expected=5.278\n",
            ">Predicted=5.278, Expected=5.142\n",
            ">Predicted=5.142, Expected=5.768\n",
            ">Predicted=5.768, Expected=5.011\n",
            ">Predicted=5.011, Expected=4.382\n",
            ">Predicted=4.382, Expected=4.263\n",
            ">Predicted=4.263, Expected=4.078\n",
            ">Predicted=4.078, Expected=3.892\n",
            ">Predicted=3.892, Expected=4.174\n",
            ">Predicted=4.174, Expected=4.317\n",
            ">Predicted=4.317, Expected=4.625\n",
            ">Predicted=4.625, Expected=5.094\n",
            ">Predicted=5.094, Expected=4.934\n",
            ">Predicted=4.934, Expected=5.429\n",
            ">Predicted=5.429, Expected=5.743\n",
            ">Predicted=5.743, Expected=5.707\n",
            ">Predicted=5.707, Expected=5.442\n",
            ">Predicted=5.442, Expected=5.583\n",
            ">Predicted=5.583, Expected=5.176\n",
            ">Predicted=5.176, Expected=5.710\n",
            ">Predicted=5.710, Expected=5.814\n",
            ">Predicted=5.814, Expected=5.447\n",
            ">Predicted=5.447, Expected=4.394\n",
            ">Predicted=4.394, Expected=5.147\n",
            ">Predicted=5.147, Expected=4.898\n",
            ">Predicted=4.898, Expected=3.332\n",
            ">Predicted=3.332, Expected=3.989\n",
            ">Predicted=3.989, Expected=3.738\n",
            ">Predicted=3.738, Expected=3.892\n",
            ">Predicted=3.892, Expected=4.078\n",
            ">Predicted=4.078, Expected=3.932\n",
            ">Predicted=3.932, Expected=4.111\n",
            ">Predicted=4.111, Expected=4.407\n",
            ">Predicted=4.407, Expected=4.234\n",
            ">Predicted=4.234, Expected=4.431\n",
            ">Predicted=4.431, Expected=4.369\n",
            ">Predicted=4.369, Expected=4.796\n",
            ">Predicted=4.796, Expected=5.268\n",
            ">Predicted=5.268, Expected=5.384\n",
            ">Predicted=5.384, Expected=5.733\n",
            ">Predicted=5.733, Expected=4.477\n",
            ">Predicted=4.477, Expected=4.317\n",
            ">Predicted=4.317, Expected=4.852\n",
            ">Predicted=4.852, Expected=4.727\n",
            ">Predicted=4.727, Expected=4.477\n",
            ">Predicted=4.477, Expected=4.489\n",
            ">Predicted=4.489, Expected=4.304\n",
            ">Predicted=4.304, Expected=4.331\n",
            ">Predicted=4.331, Expected=4.290\n",
            ">Predicted=4.290, Expected=3.829\n",
            ">Predicted=3.829, Expected=5.501\n",
            ">Predicted=5.501, Expected=5.242\n",
            ">Predicted=5.242, Expected=4.407\n",
            ">Predicted=4.407, Expected=3.332\n",
            ">Predicted=3.332, Expected=3.761\n",
            ">Predicted=3.761, Expected=3.526\n",
            ">Predicted=3.526, Expected=3.689\n",
            ">Predicted=3.689, Expected=3.829\n",
            ">Predicted=3.829, Expected=3.892\n",
            ">Predicted=3.892, Expected=4.190\n",
            ">Predicted=4.190, Expected=5.447\n",
            ">Predicted=5.447, Expected=5.663\n",
            ">Predicted=5.663, Expected=5.124\n",
            ">Predicted=5.124, Expected=4.554\n",
            ">Predicted=4.554, Expected=4.143\n",
            ">Predicted=4.143, Expected=4.812\n",
            ">Predicted=4.812, Expected=4.963\n",
            ">Predicted=4.963, Expected=5.375\n",
            ">Predicted=5.375, Expected=5.464\n",
            ">Predicted=5.464, Expected=5.375\n",
            ">Predicted=5.375, Expected=5.517\n",
            ">Predicted=5.517, Expected=4.736\n",
            ">Predicted=4.736, Expected=3.689\n",
            ">Predicted=3.689, Expected=2.944\n",
            ">Predicted=2.944, Expected=3.091\n",
            ">Predicted=3.091, Expected=3.829\n",
            ">Predicted=3.829, Expected=3.784\n",
            ">Predicted=3.784, Expected=3.932\n",
            ">Predicted=3.932, Expected=3.850\n",
            ">Predicted=3.850, Expected=3.258\n",
            ">Predicted=3.258, Expected=3.367\n",
            ">Predicted=3.367, Expected=3.714\n",
            ">Predicted=3.714, Expected=4.060\n",
            ">Predicted=4.060, Expected=4.522\n",
            ">Predicted=4.522, Expected=4.860\n",
            ">Predicted=4.860, Expected=4.595\n",
            ">Predicted=4.595, Expected=4.248\n",
            ">Predicted=4.248, Expected=4.190\n",
            ">Predicted=4.190, Expected=3.970\n",
            ">Predicted=3.970, Expected=4.860\n",
            ">Predicted=4.860, Expected=5.204\n",
            ">Predicted=5.204, Expected=5.088\n",
            ">Predicted=5.088, Expected=4.564\n",
            ">Predicted=4.564, Expected=4.477\n",
            ">Predicted=4.477, Expected=5.094\n",
            ">Predicted=5.094, Expected=4.836\n",
            ">Predicted=4.836, Expected=4.277\n",
            ">Predicted=4.277, Expected=4.127\n",
            ">Predicted=4.127, Expected=4.174\n",
            ">Predicted=4.174, Expected=3.932\n",
            ">Predicted=3.932, Expected=4.025\n",
            ">Predicted=4.025, Expected=3.714\n",
            ">Predicted=3.714, Expected=3.526\n",
            ">Predicted=3.526, Expected=3.332\n",
            ">Predicted=3.332, Expected=3.526\n",
            ">Predicted=3.526, Expected=3.912\n",
            ">Predicted=3.912, Expected=4.477\n",
            ">Predicted=4.477, Expected=5.094\n",
            ">Predicted=5.094, Expected=5.659\n",
            ">Predicted=5.659, Expected=5.159\n",
            ">Predicted=5.159, Expected=5.147\n",
            ">Predicted=5.147, Expected=5.460\n",
            ">Predicted=5.460, Expected=5.666\n",
            ">Predicted=5.666, Expected=4.977\n",
            ">Predicted=4.977, Expected=5.753\n",
            ">Predicted=5.753, Expected=5.793\n",
            ">Predicted=5.793, Expected=5.740\n",
            ">Predicted=5.740, Expected=5.288\n",
            ">Predicted=5.288, Expected=4.511\n",
            ">Predicted=4.511, Expected=3.434\n",
            ">Predicted=3.434, Expected=4.094\n",
            ">Predicted=4.094, Expected=4.394\n",
            ">Predicted=4.394, Expected=3.584\n",
            ">Predicted=3.584, Expected=3.689\n",
            ">Predicted=3.689, Expected=3.912\n",
            ">Predicted=3.912, Expected=4.094\n",
            ">Predicted=4.094, Expected=3.401\n",
            ">Predicted=3.401, Expected=3.714\n",
            ">Predicted=3.714, Expected=3.829\n",
            ">Predicted=3.829, Expected=4.127\n",
            ">Predicted=4.127, Expected=4.263\n",
            ">Predicted=4.263, Expected=4.812\n",
            ">Predicted=4.812, Expected=5.088\n",
            ">Predicted=5.088, Expected=5.226\n",
            ">Predicted=5.226, Expected=5.460\n",
            ">Predicted=5.460, Expected=5.460\n",
            ">Predicted=5.460, Expected=5.460\n",
            ">Predicted=5.460, Expected=5.460\n",
            ">Predicted=5.460, Expected=5.460\n",
            ">Predicted=5.460, Expected=5.460\n",
            ">Predicted=5.460, Expected=5.460\n",
            ">Predicted=5.460, Expected=5.460\n",
            ">Predicted=5.460, Expected=5.460\n",
            ">Predicted=5.460, Expected=5.460\n",
            ">Predicted=5.460, Expected=5.460\n",
            ">Predicted=5.460, Expected=4.431\n",
            ">Predicted=4.431, Expected=4.605\n",
            ">Predicted=4.605, Expected=4.111\n",
            ">Predicted=4.111, Expected=4.290\n",
            ">Predicted=4.290, Expected=4.159\n",
            ">Predicted=4.159, Expected=4.190\n",
            ">Predicted=4.190, Expected=3.761\n",
            ">Predicted=3.761, Expected=4.615\n",
            ">Predicted=4.615, Expected=4.575\n",
            ">Predicted=4.575, Expected=5.050\n",
            ">Predicted=5.050, Expected=5.037\n",
            ">Predicted=5.037, Expected=5.050\n",
            ">Predicted=5.050, Expected=5.580\n",
            ">Predicted=5.580, Expected=5.659\n",
            ">Predicted=5.659, Expected=5.717\n",
            ">Predicted=5.717, Expected=5.759\n",
            ">Predicted=5.759, Expected=5.858\n",
            ">Predicted=5.858, Expected=5.814\n",
            ">Predicted=5.814, Expected=5.841\n",
            ">Predicted=5.841, Expected=5.852\n",
            ">Predicted=5.852, Expected=5.829\n",
            ">Predicted=5.829, Expected=5.897\n",
            ">Predicted=5.897, Expected=5.835\n",
            ">Predicted=5.835, Expected=5.545\n",
            ">Predicted=5.545, Expected=4.454\n",
            ">Predicted=4.454, Expected=4.431\n",
            ">Predicted=4.431, Expected=4.159\n",
            ">Predicted=4.159, Expected=4.489\n",
            ">Predicted=4.489, Expected=4.143\n",
            ">Predicted=4.143, Expected=3.664\n",
            ">Predicted=3.664, Expected=3.526\n",
            ">Predicted=3.526, Expected=4.159\n",
            ">Predicted=4.159, Expected=4.263\n",
            ">Predicted=4.263, Expected=4.710\n",
            ">Predicted=4.710, Expected=5.170\n",
            ">Predicted=5.170, Expected=5.198\n",
            ">Predicted=5.198, Expected=5.529\n",
            ">Predicted=5.529, Expected=5.537\n",
            ">Predicted=5.537, Expected=4.898\n",
            ">Predicted=4.898, Expected=4.304\n",
            ">Predicted=4.304, Expected=4.745\n",
            ">Predicted=4.745, Expected=5.142\n",
            ">Predicted=5.142, Expected=5.602\n",
            ">Predicted=5.602, Expected=5.403\n",
            ">Predicted=5.403, Expected=4.489\n",
            ">Predicted=4.489, Expected=4.234\n",
            ">Predicted=4.234, Expected=4.913\n",
            ">Predicted=4.913, Expected=4.654\n",
            ">Predicted=4.654, Expected=4.718\n",
            ">Predicted=4.718, Expected=3.912\n",
            ">Predicted=3.912, Expected=3.714\n",
            ">Predicted=3.714, Expected=3.892\n",
            ">Predicted=3.892, Expected=3.807\n",
            ">Predicted=3.807, Expected=3.332\n",
            ">Predicted=3.332, Expected=3.296\n",
            ">Predicted=3.296, Expected=4.043\n",
            ">Predicted=4.043, Expected=4.205\n",
            ">Predicted=4.205, Expected=4.205\n",
            ">Predicted=4.205, Expected=4.963\n",
            ">Predicted=4.963, Expected=4.736\n",
            ">Predicted=4.736, Expected=4.635\n",
            ">Predicted=4.635, Expected=4.369\n",
            ">Predicted=4.369, Expected=4.443\n",
            ">Predicted=4.443, Expected=4.820\n",
            ">Predicted=4.820, Expected=5.017\n",
            ">Predicted=5.017, Expected=5.481\n",
            ">Predicted=5.481, Expected=5.425\n",
            ">Predicted=5.425, Expected=5.273\n",
            ">Predicted=5.273, Expected=5.030\n",
            ">Predicted=5.030, Expected=4.787\n",
            ">Predicted=4.787, Expected=4.317\n",
            ">Predicted=4.317, Expected=4.804\n",
            ">Predicted=4.804, Expected=4.852\n",
            ">Predicted=4.852, Expected=4.605\n",
            ">Predicted=4.605, Expected=4.407\n",
            ">Predicted=4.407, Expected=4.094\n",
            ">Predicted=4.094, Expected=4.007\n",
            ">Predicted=4.007, Expected=3.784\n",
            ">Predicted=3.784, Expected=3.989\n",
            ">Predicted=3.989, Expected=4.111\n",
            ">Predicted=4.111, Expected=3.989\n",
            ">Predicted=3.989, Expected=4.344\n",
            ">Predicted=4.344, Expected=4.990\n",
            ">Predicted=4.990, Expected=5.226\n",
            ">Predicted=5.226, Expected=5.517\n",
            ">Predicted=5.517, Expected=5.398\n",
            ">Predicted=5.398, Expected=5.568\n",
            ">Predicted=5.568, Expected=5.756\n",
            ">Predicted=5.756, Expected=5.642\n",
            ">Predicted=5.642, Expected=5.765\n",
            ">Predicted=5.765, Expected=5.733\n",
            ">Predicted=5.733, Expected=5.666\n",
            ">Predicted=5.666, Expected=5.759\n",
            ">Predicted=5.759, Expected=5.765\n",
            ">Predicted=5.765, Expected=5.568\n",
            ">Predicted=5.568, Expected=3.584\n",
            ">Predicted=3.584, Expected=3.970\n",
            ">Predicted=3.970, Expected=4.382\n",
            ">Predicted=4.382, Expected=4.174\n",
            ">Predicted=4.174, Expected=4.205\n",
            ">Predicted=4.205, Expected=3.970\n",
            ">Predicted=3.970, Expected=3.466\n",
            ">Predicted=3.466, Expected=3.689\n",
            ">Predicted=3.689, Expected=3.932\n",
            ">Predicted=3.932, Expected=4.174\n",
            ">Predicted=4.174, Expected=4.564\n",
            ">Predicted=4.564, Expected=4.949\n",
            ">Predicted=4.949, Expected=5.352\n",
            ">Predicted=5.352, Expected=5.081\n",
            ">Predicted=5.081, Expected=4.927\n",
            ">Predicted=4.927, Expected=5.081\n",
            ">Predicted=5.081, Expected=5.737\n",
            ">Predicted=5.737, Expected=5.775\n",
            ">Predicted=5.775, Expected=5.823\n",
            ">Predicted=5.823, Expected=5.717\n",
            ">Predicted=5.717, Expected=5.817\n",
            ">Predicted=5.817, Expected=5.638\n",
            ">Predicted=5.638, Expected=5.576\n",
            ">Predicted=5.576, Expected=5.357\n",
            ">Predicted=5.357, Expected=4.605\n",
            ">Predicted=4.605, Expected=4.691\n",
            ">Predicted=4.691, Expected=4.248\n",
            ">Predicted=4.248, Expected=3.761\n",
            ">Predicted=3.761, Expected=4.007\n",
            ">Predicted=4.007, Expected=4.094\n",
            ">Predicted=4.094, Expected=3.466\n",
            ">Predicted=3.466, Expected=3.555\n",
            ">Predicted=3.555, Expected=3.689\n",
            ">Predicted=3.689, Expected=4.174\n",
            ">Predicted=4.174, Expected=4.718\n",
            ">Predicted=4.718, Expected=4.836\n",
            ">Predicted=4.836, Expected=4.595\n",
            ">Predicted=4.595, Expected=5.017\n",
            ">Predicted=5.017, Expected=5.011\n",
            ">Predicted=5.011, Expected=5.464\n",
            ">Predicted=5.464, Expected=5.565\n",
            ">Predicted=5.565, Expected=5.509\n",
            ">Predicted=5.509, Expected=5.624\n",
            ">Predicted=5.624, Expected=4.984\n",
            ">Predicted=4.984, Expected=5.069\n",
            ">Predicted=5.069, Expected=5.198\n",
            ">Predicted=5.198, Expected=5.069\n",
            ">Predicted=5.069, Expected=4.575\n",
            ">Predicted=4.575, Expected=3.829\n",
            ">Predicted=3.829, Expected=3.912\n",
            ">Predicted=3.912, Expected=3.738\n",
            ">Predicted=3.738, Expected=4.369\n",
            ">Predicted=4.369, Expected=4.025\n",
            ">Predicted=4.025, Expected=3.970\n",
            ">Predicted=3.970, Expected=3.912\n",
            ">Predicted=3.912, Expected=3.664\n",
            ">Predicted=3.664, Expected=3.850\n",
            ">Predicted=3.850, Expected=4.263\n",
            ">Predicted=4.263, Expected=4.543\n",
            ">Predicted=4.543, Expected=4.963\n",
            ">Predicted=4.963, Expected=5.159\n",
            ">Predicted=5.159, Expected=5.187\n",
            ">Predicted=5.187, Expected=5.416\n",
            ">Predicted=5.416, Expected=5.724\n",
            ">Predicted=5.724, Expected=5.765\n",
            ">Predicted=5.765, Expected=5.759\n",
            ">Predicted=5.759, Expected=5.823\n",
            ">Predicted=5.823, Expected=5.165\n",
            ">Predicted=5.165, Expected=5.142\n",
            ">Predicted=5.142, Expected=4.673\n",
            ">Predicted=4.673, Expected=4.644\n",
            ">Predicted=4.644, Expected=3.738\n",
            ">Predicted=3.738, Expected=3.332\n",
            ">Predicted=3.332, Expected=3.091\n",
            ">Predicted=3.091, Expected=4.007\n",
            ">Predicted=4.007, Expected=3.892\n",
            ">Predicted=3.892, Expected=4.382\n",
            ">Predicted=4.382, Expected=4.220\n",
            ">Predicted=4.220, Expected=4.407\n",
            ">Predicted=4.407, Expected=4.511\n",
            ">Predicted=4.511, Expected=4.605\n",
            ">Predicted=4.605, Expected=4.443\n",
            ">Predicted=4.443, Expected=5.215\n",
            ">Predicted=5.215, Expected=5.293\n",
            ">Predicted=5.293, Expected=5.737\n",
            ">Predicted=5.737, Expected=5.756\n",
            ">Predicted=5.756, Expected=5.756\n",
            ">Predicted=5.756, Expected=5.737\n",
            ">Predicted=5.737, Expected=5.283\n",
            ">Predicted=5.283, Expected=4.454\n",
            ">Predicted=4.454, Expected=3.970\n",
            ">Predicted=3.970, Expected=3.951\n",
            ">Predicted=3.951, Expected=3.738\n",
            ">Predicted=3.738, Expected=3.584\n",
            ">Predicted=3.584, Expected=3.738\n",
            ">Predicted=3.738, Expected=3.932\n",
            ">Predicted=3.932, Expected=3.584\n",
            ">Predicted=3.584, Expected=3.401\n",
            ">Predicted=3.401, Expected=3.638\n",
            ">Predicted=3.638, Expected=3.761\n",
            ">Predicted=3.761, Expected=3.638\n",
            ">Predicted=3.638, Expected=4.174\n",
            ">Predicted=4.174, Expected=4.718\n",
            ">Predicted=4.718, Expected=4.927\n",
            ">Predicted=4.927, Expected=4.762\n",
            ">Predicted=4.762, Expected=4.443\n",
            ">Predicted=4.443, Expected=4.934\n",
            ">Predicted=4.934, Expected=5.576\n",
            ">Predicted=5.576, Expected=5.717\n",
            ">Predicted=5.717, Expected=5.756\n",
            ">Predicted=5.756, Expected=5.740\n",
            ">Predicted=5.740, Expected=5.663\n",
            ">Predicted=5.663, Expected=4.934\n",
            ">Predicted=4.934, Expected=3.871\n",
            ">Predicted=3.871, Expected=3.912\n",
            ">Predicted=3.912, Expected=2.890\n",
            ">Predicted=2.890, Expected=3.761\n",
            ">Predicted=3.761, Expected=4.190\n",
            ">Predicted=4.190, Expected=4.025\n",
            ">Predicted=4.025, Expected=3.584\n",
            ">Predicted=3.584, Expected=3.807\n",
            ">Predicted=3.807, Expected=3.466\n",
            ">Predicted=3.466, Expected=3.258\n",
            ">Predicted=3.258, Expected=3.434\n",
            ">Predicted=3.434, Expected=4.043\n",
            ">Predicted=4.043, Expected=4.466\n",
            ">Predicted=4.466, Expected=4.419\n",
            ">Predicted=4.419, Expected=4.585\n",
            ">Predicted=4.585, Expected=4.443\n",
            ">Predicted=4.443, Expected=4.263\n",
            ">Predicted=4.263, Expected=4.382\n",
            ">Predicted=4.382, Expected=4.564\n",
            ">Predicted=4.564, Expected=4.868\n",
            ">Predicted=4.868, Expected=4.644\n",
            ">Predicted=4.644, Expected=4.836\n",
            ">Predicted=4.836, Expected=5.746\n",
            ">Predicted=5.746, Expected=5.720\n",
            ">Predicted=5.720, Expected=5.684\n",
            ">Predicted=5.684, Expected=5.935\n",
            ">Predicted=5.935, Expected=4.990\n",
            ">Predicted=4.990, Expected=4.331\n",
            ">Predicted=4.331, Expected=4.248\n",
            ">Predicted=4.248, Expected=4.234\n",
            ">Predicted=4.234, Expected=3.807\n",
            ">Predicted=3.807, Expected=4.304\n",
            ">Predicted=4.304, Expected=3.434\n",
            ">Predicted=3.434, Expected=3.434\n",
            ">Predicted=3.434, Expected=3.807\n",
            ">Predicted=3.807, Expected=4.625\n",
            ">Predicted=4.625, Expected=4.691\n",
            ">Predicted=4.691, Expected=4.913\n",
            ">Predicted=4.913, Expected=4.111\n",
            ">Predicted=4.111, Expected=3.784\n",
            ">Predicted=3.784, Expected=4.357\n",
            ">Predicted=4.357, Expected=4.963\n",
            ">Predicted=4.963, Expected=5.398\n",
            ">Predicted=5.398, Expected=5.717\n",
            ">Predicted=5.717, Expected=5.781\n",
            ">Predicted=5.781, Expected=5.808\n",
            ">Predicted=5.808, Expected=5.775\n",
            ">Predicted=5.775, Expected=5.733\n",
            ">Predicted=5.733, Expected=5.638\n",
            ">Predicted=5.638, Expected=5.606\n",
            ">Predicted=5.606, Expected=5.165\n",
            ">Predicted=5.165, Expected=3.807\n",
            ">Predicted=3.807, Expected=4.263\n",
            ">Predicted=4.263, Expected=5.024\n",
            ">Predicted=5.024, Expected=5.371\n",
            ">Predicted=5.371, Expected=4.564\n",
            ">Predicted=4.564, Expected=1.099\n",
            ">Predicted=1.099, Expected=1.609\n",
            ">Predicted=1.609, Expected=4.220\n",
            ">Predicted=4.220, Expected=5.165\n",
            ">Predicted=5.165, Expected=5.293\n",
            ">Predicted=5.293, Expected=4.500\n",
            ">Predicted=4.500, Expected=4.511\n",
            ">Predicted=4.511, Expected=4.754\n",
            ">Predicted=4.754, Expected=5.209\n",
            ">Predicted=5.209, Expected=5.308\n",
            ">Predicted=5.308, Expected=5.720\n",
            ">Predicted=5.720, Expected=5.768\n",
            ">Predicted=5.768, Expected=5.759\n",
            ">Predicted=5.759, Expected=5.855\n",
            ">Predicted=5.855, Expected=5.829\n",
            ">Predicted=5.829, Expected=5.740\n",
            ">Predicted=5.740, Expected=5.209\n",
            ">Predicted=5.209, Expected=4.290\n",
            ">Predicted=4.290, Expected=3.497\n",
            ">Predicted=3.497, Expected=2.890\n",
            ">Predicted=2.890, Expected=4.220\n",
            ">Predicted=4.220, Expected=4.344\n",
            ">Predicted=4.344, Expected=4.443\n",
            ">Predicted=4.443, Expected=4.394\n",
            ">Predicted=4.394, Expected=3.912\n",
            ">Predicted=3.912, Expected=3.912\n",
            ">Predicted=3.912, Expected=3.829\n",
            ">Predicted=3.829, Expected=4.078\n",
            ">Predicted=4.078, Expected=4.419\n",
            ">Predicted=4.419, Expected=4.489\n",
            ">Predicted=4.489, Expected=4.304\n",
            ">Predicted=4.304, Expected=4.220\n",
            ">Predicted=4.220, Expected=4.454\n",
            ">Predicted=4.454, Expected=4.304\n",
            ">Predicted=4.304, Expected=4.635\n",
            ">Predicted=4.635, Expected=5.509\n",
            ">Predicted=5.509, Expected=5.613\n",
            ">Predicted=5.613, Expected=5.521\n",
            ">Predicted=5.521, Expected=4.927\n",
            ">Predicted=4.927, Expected=3.932\n",
            ">Predicted=3.932, Expected=1.946\n",
            ">Predicted=1.946, Expected=3.135\n",
            ">Predicted=3.135, Expected=3.555\n",
            ">Predicted=3.555, Expected=3.932\n",
            ">Predicted=3.932, Expected=3.951\n",
            ">Predicted=3.951, Expected=3.761\n",
            ">Predicted=3.761, Expected=3.871\n",
            ">Predicted=3.871, Expected=3.807\n",
            ">Predicted=3.807, Expected=3.689\n",
            ">Predicted=3.689, Expected=3.970\n",
            ">Predicted=3.970, Expected=4.431\n",
            ">Predicted=4.431, Expected=5.004\n",
            ">Predicted=5.004, Expected=4.963\n",
            ">Predicted=4.963, Expected=4.875\n",
            ">Predicted=4.875, Expected=5.017\n",
            ">Predicted=5.017, Expected=3.829\n",
            ">Predicted=3.829, Expected=4.990\n",
            ">Predicted=4.990, Expected=5.209\n",
            ">Predicted=5.209, Expected=4.970\n",
            ">Predicted=4.970, Expected=5.765\n",
            ">Predicted=5.765, Expected=5.737\n",
            ">Predicted=5.737, Expected=5.694\n",
            ">Predicted=5.694, Expected=5.231\n",
            ">Predicted=5.231, Expected=3.555\n",
            ">Predicted=3.555, Expected=1.792\n",
            ">Predicted=1.792, Expected=3.045\n",
            ">Predicted=3.045, Expected=3.761\n",
            ">Predicted=3.761, Expected=4.159\n",
            ">Predicted=4.159, Expected=4.060\n",
            ">Predicted=4.060, Expected=3.871\n",
            ">Predicted=3.871, Expected=3.401\n",
            ">Predicted=3.401, Expected=3.555\n",
            ">Predicted=3.555, Expected=3.970\n",
            ">Predicted=3.970, Expected=4.174\n",
            ">Predicted=4.174, Expected=4.691\n",
            ">Predicted=4.691, Expected=4.718\n",
            ">Predicted=4.718, Expected=4.234\n",
            ">Predicted=4.234, Expected=4.277\n",
            ">Predicted=4.277, Expected=5.501\n",
            ">Predicted=5.501, Expected=5.493\n",
            ">Predicted=5.493, Expected=5.811\n",
            ">Predicted=5.811, Expected=3.738\n",
            ">Predicted=3.738, Expected=3.970\n",
            ">Predicted=3.970, Expected=3.951\n",
            ">Predicted=3.951, Expected=4.344\n",
            ">Predicted=4.344, Expected=4.357\n",
            ">Predicted=4.357, Expected=4.500\n",
            ">Predicted=4.500, Expected=4.682\n",
            ">Predicted=4.682, Expected=4.990\n",
            ">Predicted=4.990, Expected=4.997\n",
            ">Predicted=4.997, Expected=5.236\n",
            ">Predicted=5.236, Expected=5.220\n",
            ">Predicted=5.220, Expected=5.740\n",
            ">Predicted=5.740, Expected=5.778\n",
            ">Predicted=5.778, Expected=5.434\n",
            ">Predicted=5.434, Expected=4.852\n",
            ">Predicted=4.852, Expected=5.004\n",
            ">Predicted=5.004, Expected=4.522\n",
            ">Predicted=4.522, Expected=3.970\n",
            ">Predicted=3.970, Expected=4.111\n",
            ">Predicted=4.111, Expected=4.190\n",
            ">Predicted=4.190, Expected=4.078\n",
            ">Predicted=4.078, Expected=3.829\n",
            ">Predicted=3.829, Expected=3.871\n",
            ">Predicted=3.871, Expected=4.007\n",
            ">Predicted=4.007, Expected=4.159\n",
            ">Predicted=4.159, Expected=4.043\n",
            ">Predicted=4.043, Expected=4.754\n",
            ">Predicted=4.754, Expected=4.860\n",
            ">Predicted=4.860, Expected=5.215\n",
            ">Predicted=5.215, Expected=5.529\n",
            ">Predicted=5.529, Expected=5.472\n",
            ">Predicted=5.472, Expected=5.513\n",
            ">Predicted=5.513, Expected=5.844\n",
            ">Predicted=5.844, Expected=5.799\n",
            ">Predicted=5.799, Expected=5.517\n",
            ">Predicted=5.517, Expected=5.673\n",
            ">Predicted=5.673, Expected=5.784\n",
            ">Predicted=5.784, Expected=5.784\n",
            ">Predicted=5.784, Expected=5.784\n",
            ">Predicted=5.784, Expected=5.784\n",
            ">Predicted=5.784, Expected=5.784\n",
            ">Predicted=5.784, Expected=5.784\n",
            ">Predicted=5.784, Expected=3.829\n",
            ">Predicted=3.829, Expected=4.111\n",
            ">Predicted=4.111, Expected=3.912\n",
            ">Predicted=3.912, Expected=4.205\n",
            ">Predicted=4.205, Expected=4.407\n",
            ">Predicted=4.407, Expected=4.700\n",
            ">Predicted=4.700, Expected=5.063\n",
            ">Predicted=5.063, Expected=5.412\n",
            ">Predicted=5.412, Expected=5.737\n",
            ">Predicted=5.737, Expected=5.740\n",
            ">Predicted=5.740, Expected=5.733\n",
            ">Predicted=5.733, Expected=5.714\n",
            ">Predicted=5.714, Expected=5.762\n",
            ">Predicted=5.762, Expected=5.749\n",
            ">Predicted=5.749, Expected=5.743\n",
            ">Predicted=5.743, Expected=5.656\n",
            ">Predicted=5.656, Expected=5.697\n",
            ">Predicted=5.697, Expected=5.037\n",
            ">Predicted=5.037, Expected=4.407\n",
            ">Predicted=4.407, Expected=3.970\n",
            ">Predicted=3.970, Expected=3.664\n",
            ">Predicted=3.664, Expected=3.892\n",
            ">Predicted=3.892, Expected=4.043\n",
            ">Predicted=4.043, Expected=3.829\n",
            ">Predicted=3.829, Expected=3.784\n",
            ">Predicted=3.784, Expected=3.951\n",
            ">Predicted=3.951, Expected=4.290\n",
            ">Predicted=4.290, Expected=4.190\n",
            ">Predicted=4.190, Expected=4.554\n",
            ">Predicted=4.554, Expected=4.997\n",
            ">Predicted=4.997, Expected=5.288\n",
            ">Predicted=5.288, Expected=5.371\n",
            ">Predicted=5.371, Expected=5.017\n",
            ">Predicted=5.017, Expected=4.771\n",
            ">Predicted=4.771, Expected=4.595\n",
            ">Predicted=4.595, Expected=4.868\n",
            ">Predicted=4.868, Expected=4.868\n",
            ">Predicted=4.868, Expected=4.868\n",
            ">Predicted=4.868, Expected=4.868\n",
            ">Predicted=4.868, Expected=4.868\n",
            ">Predicted=4.868, Expected=4.868\n",
            ">Predicted=4.868, Expected=4.868\n",
            ">Predicted=4.868, Expected=4.868\n",
            ">Predicted=4.868, Expected=4.868\n",
            ">Predicted=4.868, Expected=3.296\n",
            ">Predicted=3.296, Expected=3.689\n",
            ">Predicted=3.689, Expected=4.220\n",
            ">Predicted=4.220, Expected=3.850\n",
            ">Predicted=3.850, Expected=3.738\n",
            ">Predicted=3.738, Expected=3.761\n",
            ">Predicted=3.761, Expected=4.143\n",
            ">Predicted=4.143, Expected=4.554\n",
            ">Predicted=4.554, Expected=4.984\n",
            ">Predicted=4.984, Expected=4.575\n",
            ">Predicted=4.575, Expected=4.654\n",
            ">Predicted=4.654, Expected=4.852\n",
            ">Predicted=4.852, Expected=5.768\n",
            ">Predicted=5.768, Expected=5.826\n",
            ">Predicted=5.826, Expected=5.740\n",
            ">Predicted=5.740, Expected=4.691\n",
            ">Predicted=4.691, Expected=4.691\n",
            ">Predicted=4.691, Expected=4.691\n",
            ">Predicted=4.691, Expected=4.691\n",
            ">Predicted=4.691, Expected=4.691\n",
            ">Predicted=4.691, Expected=4.691\n",
            ">Predicted=4.691, Expected=4.691\n",
            ">Predicted=4.691, Expected=4.691\n",
            ">Predicted=4.691, Expected=4.691\n",
            ">Predicted=4.691, Expected=4.691\n",
            ">Predicted=4.691, Expected=4.691\n",
            ">Predicted=4.691, Expected=4.691\n",
            ">Predicted=4.691, Expected=4.691\n",
            ">Predicted=4.691, Expected=4.691\n",
            ">Predicted=4.691, Expected=4.691\n",
            ">Predicted=4.691, Expected=4.691\n",
            ">Predicted=4.691, Expected=4.691\n",
            ">Predicted=4.691, Expected=4.691\n",
            ">Predicted=4.691, Expected=4.691\n",
            ">Predicted=4.691, Expected=4.691\n",
            ">Predicted=4.691, Expected=4.691\n",
            ">Predicted=4.691, Expected=4.691\n",
            ">Predicted=4.691, Expected=4.691\n",
            ">Predicted=4.691, Expected=4.691\n",
            ">Predicted=4.691, Expected=4.691\n",
            ">Predicted=4.691, Expected=4.691\n",
            ">Predicted=4.691, Expected=4.691\n",
            ">Predicted=4.691, Expected=4.691\n",
            ">Predicted=4.691, Expected=4.691\n",
            ">Predicted=4.691, Expected=4.691\n",
            ">Predicted=4.691, Expected=4.691\n",
            ">Predicted=4.691, Expected=4.290\n",
            ">Predicted=4.290, Expected=4.060\n",
            ">Predicted=4.060, Expected=3.912\n",
            ">Predicted=3.912, Expected=4.190\n",
            ">Predicted=4.190, Expected=4.836\n",
            ">Predicted=4.836, Expected=4.564\n",
            ">Predicted=4.564, Expected=4.644\n",
            ">Predicted=4.644, Expected=3.951\n",
            ">Predicted=3.951, Expected=4.190\n",
            ">Predicted=4.190, Expected=3.871\n",
            ">Predicted=3.871, Expected=4.111\n",
            ">Predicted=4.111, Expected=4.727\n",
            ">Predicted=4.727, Expected=5.165\n",
            ">Predicted=5.165, Expected=5.030\n",
            ">Predicted=5.030, Expected=4.615\n",
            ">Predicted=4.615, Expected=4.394\n",
            ">Predicted=4.394, Expected=4.357\n",
            ">Predicted=4.357, Expected=4.554\n",
            ">Predicted=4.554, Expected=4.431\n",
            ">Predicted=4.431, Expected=4.691\n",
            ">Predicted=4.691, Expected=4.836\n",
            ">Predicted=4.836, Expected=5.209\n",
            ">Predicted=5.209, Expected=5.159\n",
            ">Predicted=5.159, Expected=4.949\n",
            ">Predicted=4.949, Expected=4.466\n",
            ">Predicted=4.466, Expected=4.454\n",
            ">Predicted=4.454, Expected=4.500\n",
            ">Predicted=4.500, Expected=4.860\n",
            ">Predicted=4.860, Expected=5.081\n",
            ">Predicted=5.081, Expected=5.204\n",
            ">Predicted=5.204, Expected=4.762\n",
            ">Predicted=4.762, Expected=4.585\n",
            ">Predicted=4.585, Expected=4.477\n",
            ">Predicted=4.477, Expected=4.575\n",
            ">Predicted=4.575, Expected=4.779\n",
            ">Predicted=4.779, Expected=4.682\n",
            ">Predicted=4.682, Expected=4.263\n",
            ">Predicted=4.263, Expected=4.277\n",
            ">Predicted=4.277, Expected=4.205\n",
            ">Predicted=4.205, Expected=4.431\n",
            ">Predicted=4.431, Expected=4.812\n",
            ">Predicted=4.812, Expected=4.682\n",
            ">Predicted=4.682, Expected=4.500\n",
            ">Predicted=4.500, Expected=4.094\n",
            ">Predicted=4.094, Expected=4.443\n",
            ">Predicted=4.443, Expected=4.779\n",
            ">Predicted=4.779, Expected=5.170\n",
            ">Predicted=5.170, Expected=5.371\n",
            ">Predicted=5.371, Expected=5.412\n",
            ">Predicted=5.412, Expected=4.860\n",
            ">Predicted=4.860, Expected=4.804\n",
            ">Predicted=4.804, Expected=4.663\n",
            ">Predicted=4.663, Expected=5.004\n",
            ">Predicted=5.004, Expected=5.677\n",
            ">Predicted=5.677, Expected=5.537\n",
            ">Predicted=5.537, Expected=5.004\n",
            ">Predicted=5.004, Expected=4.477\n",
            ">Predicted=4.477, Expected=4.369\n",
            ">Predicted=4.369, Expected=4.564\n",
            ">Predicted=4.564, Expected=4.905\n",
            ">Predicted=4.905, Expected=4.700\n",
            ">Predicted=4.700, Expected=4.317\n",
            ">Predicted=4.317, Expected=3.970\n",
            ">Predicted=3.970, Expected=4.111\n",
            ">Predicted=4.111, Expected=4.234\n",
            ">Predicted=4.234, Expected=4.585\n",
            ">Predicted=4.585, Expected=5.011\n",
            ">Predicted=5.011, Expected=4.700\n",
            ">Predicted=4.700, Expected=4.990\n",
            ">Predicted=4.990, Expected=5.037\n",
            ">Predicted=5.037, Expected=4.913\n",
            ">Predicted=4.913, Expected=5.170\n",
            ">Predicted=5.170, Expected=5.438\n",
            ">Predicted=5.438, Expected=5.521\n",
            ">Predicted=5.521, Expected=5.170\n",
            ">Predicted=5.170, Expected=5.011\n",
            ">Predicted=5.011, Expected=4.812\n",
            ">Predicted=4.812, Expected=5.451\n",
            ">Predicted=5.451, Expected=5.371\n",
            ">Predicted=5.371, Expected=5.505\n",
            ">Predicted=5.505, Expected=5.215\n",
            ">Predicted=5.215, Expected=4.820\n",
            ">Predicted=4.820, Expected=4.127\n",
            ">Predicted=4.127, Expected=4.754\n",
            ">Predicted=4.754, Expected=4.970\n",
            ">Predicted=4.970, Expected=4.883\n",
            ">Predicted=4.883, Expected=4.248\n",
            ">Predicted=4.248, Expected=4.060\n",
            ">Predicted=4.060, Expected=4.290\n",
            ">Predicted=4.290, Expected=4.554\n",
            ">Predicted=4.554, Expected=5.247\n",
            ">Predicted=5.247, Expected=5.398\n",
            ">Predicted=5.398, Expected=5.442\n",
            ">Predicted=5.442, Expected=5.220\n",
            ">Predicted=5.220, Expected=5.609\n",
            ">Predicted=5.609, Expected=5.730\n",
            ">Predicted=5.730, Expected=5.844\n",
            ">Predicted=5.844, Expected=5.889\n",
            ">Predicted=5.889, Expected=5.945\n",
            ">Predicted=5.945, Expected=5.927\n",
            ">Predicted=5.927, Expected=6.021\n",
            ">Predicted=6.021, Expected=6.023\n",
            ">Predicted=6.023, Expected=5.994\n",
            ">Predicted=5.994, Expected=5.951\n",
            ">Predicted=5.951, Expected=5.897\n",
            ">Predicted=5.897, Expected=5.730\n",
            ">Predicted=5.730, Expected=3.970\n",
            ">Predicted=3.970, Expected=3.689\n",
            ">Predicted=3.689, Expected=4.205\n",
            ">Predicted=4.205, Expected=4.673\n",
            ">Predicted=4.673, Expected=4.419\n",
            ">Predicted=4.419, Expected=3.932\n",
            ">Predicted=3.932, Expected=3.296\n",
            ">Predicted=3.296, Expected=3.555\n",
            ">Predicted=3.555, Expected=3.892\n",
            ">Predicted=3.892, Expected=5.204\n",
            ">Predicted=5.204, Expected=5.231\n",
            ">Predicted=5.231, Expected=5.182\n",
            ">Predicted=5.182, Expected=5.236\n",
            ">Predicted=5.236, Expected=5.389\n",
            ">Predicted=5.389, Expected=5.037\n",
            ">Predicted=5.037, Expected=4.860\n",
            ">Predicted=4.860, Expected=5.398\n",
            ">Predicted=5.398, Expected=5.352\n",
            ">Predicted=5.352, Expected=4.956\n",
            ">Predicted=4.956, Expected=4.787\n",
            ">Predicted=4.787, Expected=5.182\n",
            ">Predicted=5.182, Expected=4.984\n",
            ">Predicted=4.984, Expected=4.615\n",
            ">Predicted=4.615, Expected=5.011\n",
            ">Predicted=5.011, Expected=4.317\n",
            ">Predicted=4.317, Expected=3.970\n",
            ">Predicted=3.970, Expected=4.060\n",
            ">Predicted=4.060, Expected=4.852\n",
            ">Predicted=4.852, Expected=4.942\n",
            ">Predicted=4.942, Expected=4.913\n",
            ">Predicted=4.913, Expected=4.317\n",
            ">Predicted=4.317, Expected=3.871\n",
            ">Predicted=3.871, Expected=3.871\n",
            ">Predicted=3.871, Expected=3.871\n",
            ">Predicted=3.871, Expected=1.099\n",
            ">Predicted=1.099, Expected=3.689\n",
            ">Predicted=3.689, Expected=4.060\n",
            ">Predicted=4.060, Expected=2.485\n",
            ">Predicted=2.485, Expected=1.386\n",
            ">Predicted=1.386, Expected=2.303\n",
            ">Predicted=2.303, Expected=3.584\n",
            ">Predicted=3.584, Expected=4.111\n",
            ">Predicted=4.111, Expected=4.369\n",
            ">Predicted=4.369, Expected=4.883\n",
            ">Predicted=4.883, Expected=3.970\n",
            ">Predicted=3.970, Expected=3.091\n",
            ">Predicted=3.091, Expected=4.220\n",
            ">Predicted=4.220, Expected=4.394\n",
            ">Predicted=4.394, Expected=4.290\n",
            ">Predicted=4.290, Expected=4.159\n",
            ">Predicted=4.159, Expected=3.689\n",
            ">Predicted=3.689, Expected=4.007\n",
            ">Predicted=4.007, Expected=4.111\n",
            ">Predicted=4.111, Expected=4.263\n",
            ">Predicted=4.263, Expected=4.394\n",
            ">Predicted=4.394, Expected=4.248\n",
            ">Predicted=4.248, Expected=3.807\n",
            ">Predicted=3.807, Expected=3.784\n",
            ">Predicted=3.784, Expected=4.159\n",
            ">Predicted=4.159, Expected=4.554\n",
            ">Predicted=4.554, Expected=4.500\n",
            ">Predicted=4.500, Expected=4.990\n",
            ">Predicted=4.990, Expected=3.892\n",
            ">Predicted=3.892, Expected=3.611\n",
            ">Predicted=3.611, Expected=3.466\n",
            ">Predicted=3.466, Expected=3.761\n",
            ">Predicted=3.761, Expected=4.025\n",
            ">Predicted=4.025, Expected=4.554\n",
            ">Predicted=4.554, Expected=4.159\n",
            ">Predicted=4.159, Expected=3.892\n",
            ">Predicted=3.892, Expected=3.807\n",
            ">Predicted=3.807, Expected=4.248\n",
            ">Predicted=4.248, Expected=4.369\n",
            ">Predicted=4.369, Expected=4.331\n",
            ">Predicted=4.331, Expected=4.263\n",
            ">Predicted=4.263, Expected=3.892\n",
            ">Predicted=3.892, Expected=3.714\n",
            ">Predicted=3.714, Expected=4.025\n",
            ">Predicted=4.025, Expected=4.500\n",
            ">Predicted=4.500, Expected=4.419\n",
            ">Predicted=4.419, Expected=4.248\n",
            ">Predicted=4.248, Expected=3.638\n",
            ">Predicted=3.638, Expected=3.466\n",
            ">Predicted=3.466, Expected=3.714\n",
            ">Predicted=3.714, Expected=4.277\n",
            ">Predicted=4.277, Expected=4.344\n",
            ">Predicted=4.344, Expected=4.564\n",
            ">Predicted=4.564, Expected=4.431\n",
            ">Predicted=4.431, Expected=3.951\n",
            ">Predicted=3.951, Expected=3.871\n",
            ">Predicted=3.871, Expected=4.234\n",
            ">Predicted=4.234, Expected=4.710\n",
            ">Predicted=4.710, Expected=4.942\n",
            ">Predicted=4.942, Expected=4.615\n",
            ">Predicted=4.615, Expected=3.555\n",
            ">Predicted=3.555, Expected=0.693\n",
            ">Predicted=0.693, Expected=1.609\n",
            ">Predicted=1.609, Expected=3.584\n",
            ">Predicted=3.584, Expected=3.951\n",
            ">Predicted=3.951, Expected=4.060\n",
            ">Predicted=4.060, Expected=2.944\n",
            ">Predicted=2.944, Expected=1.946\n",
            ">Predicted=1.946, Expected=3.219\n",
            ">Predicted=3.219, Expected=3.738\n",
            ">Predicted=3.738, Expected=4.543\n",
            ">Predicted=4.543, Expected=4.844\n",
            ">Predicted=4.844, Expected=4.727\n",
            ">Predicted=4.727, Expected=4.522\n",
            ">Predicted=4.522, Expected=5.017\n",
            ">Predicted=5.017, Expected=4.736\n",
            ">Predicted=4.736, Expected=5.303\n",
            ">Predicted=5.303, Expected=5.447\n",
            ">Predicted=5.447, Expected=5.112\n",
            ">Predicted=5.112, Expected=4.575\n",
            ">Predicted=4.575, Expected=4.820\n",
            ">Predicted=4.820, Expected=5.182\n",
            ">Predicted=5.182, Expected=5.298\n",
            ">Predicted=5.298, Expected=5.416\n",
            ">Predicted=5.416, Expected=4.575\n",
            ">Predicted=4.575, Expected=4.248\n",
            ">Predicted=4.248, Expected=3.989\n",
            ">Predicted=3.989, Expected=4.234\n",
            ">Predicted=4.234, Expected=4.836\n",
            ">Predicted=4.836, Expected=4.787\n",
            ">Predicted=4.787, Expected=4.663\n",
            ">Predicted=4.663, Expected=3.951\n",
            ">Predicted=3.951, Expected=4.060\n",
            ">Predicted=4.060, Expected=3.784\n",
            ">Predicted=3.784, Expected=4.357\n",
            ">Predicted=4.357, Expected=4.771\n",
            ">Predicted=4.771, Expected=4.443\n",
            ">Predicted=4.443, Expected=3.912\n",
            ">Predicted=3.912, Expected=3.178\n",
            ">Predicted=3.178, Expected=3.807\n",
            ">Predicted=3.807, Expected=4.234\n",
            ">Predicted=4.234, Expected=4.500\n",
            ">Predicted=4.500, Expected=4.595\n",
            ">Predicted=4.595, Expected=4.369\n",
            ">Predicted=4.369, Expected=3.555\n",
            ">Predicted=3.555, Expected=3.664\n",
            ">Predicted=3.664, Expected=3.045\n",
            ">Predicted=3.045, Expected=4.419\n",
            ">Predicted=4.419, Expected=4.419\n",
            ">Predicted=4.419, Expected=4.443\n",
            ">Predicted=4.443, Expected=4.159\n",
            ">Predicted=4.159, Expected=3.689\n",
            ">Predicted=3.689, Expected=3.951\n",
            ">Predicted=3.951, Expected=4.394\n",
            ">Predicted=4.394, Expected=4.635\n",
            ">Predicted=4.635, Expected=4.234\n",
            ">Predicted=4.234, Expected=3.332\n",
            ">Predicted=3.332, Expected=1.792\n",
            ">Predicted=1.792, Expected=2.833\n",
            ">Predicted=2.833, Expected=2.833\n",
            ">Predicted=2.833, Expected=3.296\n",
            ">Predicted=3.296, Expected=3.829\n",
            ">Predicted=3.829, Expected=3.555\n",
            ">Predicted=3.555, Expected=2.639\n",
            ">Predicted=2.639, Expected=3.219\n",
            ">Predicted=3.219, Expected=3.135\n",
            ">Predicted=3.135, Expected=4.454\n",
            ">Predicted=4.454, Expected=3.296\n",
            ">Predicted=3.296, Expected=3.045\n",
            ">Predicted=3.045, Expected=0.000\n",
            ">Predicted=0.000, Expected=2.079\n",
            ">Predicted=2.079, Expected=3.526\n",
            ">Predicted=3.526, Expected=4.331\n",
            ">Predicted=4.331, Expected=4.263\n",
            ">Predicted=4.263, Expected=4.344\n",
            ">Predicted=4.344, Expected=4.043\n",
            ">Predicted=4.043, Expected=3.584\n",
            ">Predicted=3.584, Expected=4.190\n",
            ">Predicted=4.190, Expected=4.143\n",
            ">Predicted=4.143, Expected=3.611\n",
            ">Predicted=3.611, Expected=3.367\n",
            ">Predicted=3.367, Expected=3.332\n",
            ">Predicted=3.332, Expected=3.892\n",
            ">Predicted=3.892, Expected=4.143\n",
            ">Predicted=4.143, Expected=4.234\n",
            ">Predicted=4.234, Expected=5.743\n",
            ">Predicted=5.743, Expected=5.565\n",
            ">Predicted=5.565, Expected=4.205\n",
            ">Predicted=4.205, Expected=4.248\n",
            ">Predicted=4.248, Expected=5.024\n",
            ">Predicted=5.024, Expected=4.745\n",
            ">Predicted=4.745, Expected=5.704\n",
            ">Predicted=5.704, Expected=5.429\n",
            ">Predicted=5.429, Expected=5.598\n",
            ">Predicted=5.598, Expected=5.509\n",
            ">Predicted=5.509, Expected=5.724\n",
            ">Predicted=5.724, Expected=5.176\n",
            ">Predicted=5.176, Expected=3.951\n",
            ">Predicted=3.951, Expected=2.639\n",
            ">Predicted=2.639, Expected=2.197\n",
            ">Predicted=2.197, Expected=2.485\n",
            ">Predicted=2.485, Expected=4.025\n",
            ">Predicted=4.025, Expected=3.555\n",
            ">Predicted=3.555, Expected=2.398\n",
            ">Predicted=2.398, Expected=4.094\n",
            ">Predicted=4.094, Expected=3.850\n",
            ">Predicted=3.850, Expected=3.784\n",
            ">Predicted=3.784, Expected=4.078\n",
            ">Predicted=4.078, Expected=4.277\n",
            ">Predicted=4.277, Expected=5.204\n",
            ">Predicted=5.204, Expected=5.781\n",
            ">Predicted=5.781, Expected=5.673\n",
            ">Predicted=5.673, Expected=5.642\n",
            ">Predicted=5.642, Expected=5.050\n",
            ">Predicted=5.050, Expected=5.075\n",
            ">Predicted=5.075, Expected=5.394\n",
            ">Predicted=5.394, Expected=5.568\n",
            ">Predicted=5.568, Expected=5.727\n",
            ">Predicted=5.727, Expected=5.730\n",
            ">Predicted=5.730, Expected=5.787\n",
            ">Predicted=5.787, Expected=5.624\n",
            ">Predicted=5.624, Expected=4.564\n",
            ">Predicted=4.564, Expected=3.807\n",
            ">Predicted=3.807, Expected=2.398\n",
            ">Predicted=2.398, Expected=2.398\n",
            ">Predicted=2.398, Expected=1.386\n",
            ">Predicted=1.386, Expected=2.485\n",
            ">Predicted=2.485, Expected=2.944\n",
            ">Predicted=2.944, Expected=2.833\n",
            ">Predicted=2.833, Expected=3.738\n",
            ">Predicted=3.738, Expected=3.829\n",
            ">Predicted=3.829, Expected=4.111\n",
            ">Predicted=4.111, Expected=4.605\n",
            ">Predicted=4.605, Expected=5.075\n",
            ">Predicted=5.075, Expected=5.455\n",
            ">Predicted=5.455, Expected=5.231\n",
            ">Predicted=5.231, Expected=5.209\n",
            ">Predicted=5.209, Expected=5.318\n",
            ">Predicted=5.318, Expected=5.771\n",
            ">Predicted=5.771, Expected=5.707\n",
            ">Predicted=5.707, Expected=5.787\n",
            ">Predicted=5.787, Expected=5.875\n",
            ">Predicted=5.875, Expected=5.844\n",
            ">Predicted=5.844, Expected=5.756\n",
            ">Predicted=5.756, Expected=5.165\n",
            ">Predicted=5.165, Expected=4.949\n",
            ">Predicted=4.949, Expected=3.296\n",
            ">Predicted=3.296, Expected=2.197\n",
            ">Predicted=2.197, Expected=2.079\n",
            ">Predicted=2.079, Expected=2.944\n",
            ">Predicted=2.944, Expected=3.584\n",
            ">Predicted=3.584, Expected=3.664\n",
            ">Predicted=3.664, Expected=3.526\n",
            ">Predicted=3.526, Expected=3.912\n",
            ">Predicted=3.912, Expected=4.007\n",
            ">Predicted=4.007, Expected=4.143\n",
            ">Predicted=4.143, Expected=4.700\n",
            ">Predicted=4.700, Expected=4.477\n",
            ">Predicted=4.477, Expected=4.771\n",
            ">Predicted=4.771, Expected=5.193\n",
            ">Predicted=5.193, Expected=5.628\n",
            ">Predicted=5.628, Expected=3.178\n",
            ">Predicted=3.178, Expected=2.197\n",
            ">Predicted=2.197, Expected=3.296\n",
            ">Predicted=3.296, Expected=3.258\n",
            ">Predicted=3.258, Expected=4.007\n",
            ">Predicted=4.007, Expected=4.394\n",
            ">Predicted=4.394, Expected=4.394\n",
            ">Predicted=4.394, Expected=4.369\n",
            ">Predicted=4.369, Expected=4.431\n",
            ">Predicted=4.431, Expected=4.477\n",
            ">Predicted=4.477, Expected=4.970\n",
            ">Predicted=4.970, Expected=4.828\n",
            ">Predicted=4.828, Expected=4.820\n",
            ">Predicted=4.820, Expected=5.352\n",
            ">Predicted=5.352, Expected=5.714\n",
            ">Predicted=5.714, Expected=5.489\n",
            ">Predicted=5.489, Expected=4.710\n",
            ">Predicted=4.710, Expected=4.883\n",
            ">Predicted=4.883, Expected=4.248\n",
            ">Predicted=4.248, Expected=3.970\n",
            ">Predicted=3.970, Expected=3.850\n",
            ">Predicted=3.850, Expected=3.989\n",
            "RMSE: 0.533\n"
          ],
          "name": "stdout"
        }
      ]
    },
    {
      "cell_type": "code",
      "metadata": {
        "id": "FtBhPuUIgY7H"
      },
      "source": [
        "import warnings\n",
        "from pandas import read_csv\n",
        "from statsmodels.tsa.arima_model import ARIMA\n",
        "from sklearn.metrics import mean_squared_error\n",
        "from math import sqrt\n",
        "\n",
        "\n",
        "# evaluate an ARIMA model for a given order (p,d,q) and return RMSE\n",
        "def evaluate_arima_model(X, arima_order):\n",
        "# prepare training dataset\n",
        "    X = X.astype('float32')\n",
        "    train_size = int(len(X) * 0.50)\n",
        "    train, test = X[0:train_size], X[train_size:]\n",
        "    history = [x for x in train]\n",
        "# make predictions\n",
        "    predictions = list()\n",
        "    for t in range(len(test)):\n",
        "        model = ARIMA(history, order=arima_order)\n",
        "# model_fit = model.fit(disp=0)\n",
        "        model_fit = model.fit(disp=0)\n",
        "        yhat = model_fit.forecast()[0]\n",
        "        predictions.append(yhat)\n",
        "        history.append(test[t])\n",
        "# calculate out of sample error\n",
        "    rmse = sqrt(mean_squared_error(test, predictions))\n",
        "    return rmse"
      ],
      "execution_count": 45,
      "outputs": []
    },
    {
      "cell_type": "code",
      "metadata": {
        "id": "rg06YfJiggro"
      },
      "source": [
        "# evaluate combinations of p, d and q values for an ARIMA model\n",
        "def evaluate_models(dataset, p_values, d_values, q_values):\n",
        "    dataset = dataset.astype('float32')\n",
        "    best_score, best_cfg = float('inf'), None\n",
        "    for p in p_values:\n",
        "        for d in d_values:\n",
        "            for q in q_values:\n",
        "                order = (p,d,q)\n",
        "                try:\n",
        "                    rmse = evaluate_arima_model(train, order)\n",
        "                    if rmse < best_score:\n",
        "                        best_score, best_cfg = rmse, order\n",
        "                    print('ARIMA%s RMSE=%.3f' % (order,rmse))\n",
        "                except:\n",
        "                    continue\n",
        "    print('Best ARIMA%s RMSE=%.3f' % (best_cfg, best_score))"
      ],
      "execution_count": 46,
      "outputs": []
    },
    {
      "cell_type": "code",
      "metadata": {
        "colab": {
          "base_uri": "https://localhost:8080/"
        },
        "id": "N3YZM9MogkHL",
        "outputId": "bb20b019-a3d9-458c-e336-7e2a35a9b7af"
      },
      "source": [
        "#load dataset\n",
        "train = read_csv('dataset.csv', header=None, index_col=0, parse_dates=True, squeeze=True)\n",
        "# evaluate parameters\n",
        "p_values = range(0, 5)\n",
        "d_values = range(0, 5)\n",
        "q_values = range(0, 5)\n",
        "warnings.filterwarnings(\"ignore\")\n",
        "evaluate_models(train.values, p_values, d_values, q_values)"
      ],
      "execution_count": null,
      "outputs": [
        {
          "output_type": "stream",
          "text": [
            "ARIMA(0, 0, 0) RMSE=0.995\n",
            "ARIMA(0, 0, 1) RMSE=0.674\n",
            "ARIMA(0, 1, 0) RMSE=0.533\n",
            "ARIMA(0, 1, 1) RMSE=0.531\n",
            "ARIMA(0, 1, 2) RMSE=0.527\n",
            "ARIMA(0, 1, 3) RMSE=0.518\n",
            "ARIMA(0, 1, 4) RMSE=0.505\n",
            "ARIMA(0, 2, 0) RMSE=0.720\n",
            "ARIMA(0, 2, 1) RMSE=0.533\n",
            "ARIMA(0, 2, 2) RMSE=0.532\n",
            "ARIMA(1, 0, 0) RMSE=0.514\n",
            "ARIMA(1, 0, 1) RMSE=0.506\n",
            "ARIMA(1, 0, 2) RMSE=0.507\n",
            "ARIMA(1, 0, 3) RMSE=0.506\n",
            "ARIMA(1, 0, 4) RMSE=0.506\n",
            "ARIMA(1, 1, 0) RMSE=0.532\n",
            "ARIMA(1, 1, 1) RMSE=0.506\n",
            "ARIMA(1, 2, 0) RMSE=0.674\n",
            "ARIMA(2, 0, 0) RMSE=0.507\n",
            "ARIMA(2, 0, 1) RMSE=0.508\n",
            "ARIMA(2, 0, 2) RMSE=0.508\n",
            "ARIMA(2, 0, 4) RMSE=0.507\n",
            "ARIMA(2, 1, 0) RMSE=0.525\n",
            "ARIMA(2, 1, 1) RMSE=0.495\n",
            "ARIMA(2, 1, 2) RMSE=0.498\n",
            "ARIMA(2, 1, 3) RMSE=0.494\n",
            "ARIMA(2, 1, 4) RMSE=0.496\n",
            "ARIMA(2, 2, 0) RMSE=0.646\n",
            "ARIMA(3, 0, 0) RMSE=0.507\n",
            "ARIMA(3, 0, 1) RMSE=0.508\n"
          ],
          "name": "stdout"
        }
      ]
    },
    {
      "cell_type": "code",
      "metadata": {
        "id": "pOpv7YdegoPi"
      },
      "source": [
        "model = ARIMA(X, order=(4,1,3))\n",
        "model_fit = model.fit()"
      ],
      "execution_count": 49,
      "outputs": []
    },
    {
      "cell_type": "code",
      "metadata": {
        "colab": {
          "base_uri": "https://localhost:8080/"
        },
        "id": "fz-wrnkvP6Ib",
        "outputId": "f7e9ed85-5681-4154-ed66-6271a9827718"
      },
      "source": [
        "val=pd.read_csv('validation.csv',header=None)\n",
        "rmse = sqrt(mean_squared_error(val[1], forecast))\n",
        "rmse"
      ],
      "execution_count": 50,
      "outputs": [
        {
          "output_type": "execute_result",
          "data": {
            "text/plain": [
              "0.3644373050002415"
            ]
          },
          "metadata": {
            "tags": []
          },
          "execution_count": 50
        }
      ]
    },
    {
      "cell_type": "code",
      "metadata": {
        "colab": {
          "base_uri": "https://localhost:8080/"
        },
        "id": "1ix5IpRTP8k9",
        "outputId": "990b30fc-5caf-416e-c28f-bc245fff923a"
      },
      "source": [
        "forecast=model_fit.forecast(steps=10)[0]\n",
        "forecast"
      ],
      "execution_count": 51,
      "outputs": [
        {
          "output_type": "execute_result",
          "data": {
            "text/plain": [
              "array([4.07429046, 4.05795134, 4.00902893, 4.01768558, 4.10901665,\n",
              "       4.22379651, 4.27633986, 4.23410404, 4.14678434, 4.10034837])"
            ]
          },
          "metadata": {
            "tags": []
          },
          "execution_count": 51
        }
      ]
    },
    {
      "cell_type": "code",
      "metadata": {
        "colab": {
          "base_uri": "https://localhost:8080/"
        },
        "id": "C5TJeA91QJx-",
        "outputId": "5a3c8a20-185d-421d-a4d9-37dac421a0da"
      },
      "source": [
        "forecast=np.exp(forecast)\n",
        "forecast"
      ],
      "execution_count": 52,
      "outputs": [
        {
          "output_type": "execute_result",
          "data": {
            "text/plain": [
              "array([58.80873849, 57.85566309, 55.09334519, 55.57233894, 60.8868148 ,\n",
              "       68.29226524, 71.97651302, 68.99982966, 63.23034556, 60.36131219])"
            ]
          },
          "metadata": {
            "tags": []
          },
          "execution_count": 52
        }
      ]
    }
  ]
}